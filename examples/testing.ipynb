{
 "cells": [
  {
   "cell_type": "markdown",
   "metadata": {},
   "source": [
    "# scqubits: running the pytest suite\n",
    "J. Koch and P. Groszkowski\n",
    "\n",
    "For further documentation of scqubits see https://scqubits.readthedocs.io/en/latest/.\n",
    "\n",
    "---\n",
    "\n",
    "<div class=\"alert alert-block alert-info\"><b>Note:</b> The `pytest` package must be installed for this to work.</div>"
   ]
  },
  {
   "cell_type": "code",
   "execution_count": 1,
   "metadata": {},
   "outputs": [
    {
     "name": "stdout",
     "output_type": "stream",
     "text": [
      "================================================= test session starts =================================================\n",
      "platform win32 -- Python 3.8.5, pytest-6.2.1, py-1.10.0, pluggy-0.13.1 -- C:\\Users\\drjen\\miniconda3\\python.exe\n",
      "cachedir: .pytest_cache\n",
      "rootdir: c:\\users\\drjen\\onedrive\\coding\\pycharmprojects\\scqubits\n",
      "collecting ... collected 77 items\n",
      "\n",
      "..\\..\\scqubits\\scqubits\\tests\\test_explorer.py::test_explorer "
     ]
    },
    {
     "data": {
      "application/vnd.jupyter.widget-view+json": {
       "model_id": "",
       "version_major": 2,
       "version_minor": 0
      },
      "text/plain": [
       "HBox(children=(HTML(value='Bare spectra'), FloatProgress(value=0.0), HTML(value='')))"
      ]
     },
     "metadata": {},
     "output_type": "display_data"
    },
    {
     "data": {
      "application/vnd.jupyter.widget-view+json": {
       "model_id": "",
       "version_major": 2,
       "version_minor": 0
      },
      "text/plain": [
       "HBox(children=(HTML(value='Dressed spectrum'), FloatProgress(value=0.0), HTML(value='')))"
      ]
     },
     "metadata": {},
     "output_type": "display_data"
    },
    {
     "data": {
      "application/vnd.jupyter.widget-view+json": {
       "model_id": "",
       "version_major": 2,
       "version_minor": 0
      },
      "text/plain": [
       "HBox(children=(HTML(value='data sweep'), FloatProgress(value=0.0), HTML(value='')))"
      ]
     },
     "metadata": {},
     "output_type": "display_data"
    },
    {
     "data": {
      "application/vnd.jupyter.widget-view+json": {
       "model_id": "",
       "version_major": 2,
       "version_minor": 0
      },
      "text/plain": [
       "HBox(children=(HTML(value='data sweep'), FloatProgress(value=0.0), HTML(value='')))"
      ]
     },
     "metadata": {},
     "output_type": "display_data"
    },
    {
     "data": {
      "application/vnd.jupyter.widget-view+json": {
       "model_id": "",
       "version_major": 2,
       "version_minor": 0
      },
      "text/plain": [
       "HBox(children=(HTML(value='data sweep'), FloatProgress(value=0.0), HTML(value='')))"
      ]
     },
     "metadata": {},
     "output_type": "display_data"
    },
    {
     "data": {
      "application/vnd.jupyter.widget-view+json": {
       "model_id": "",
       "version_major": 2,
       "version_minor": 0
      },
      "text/plain": [
       "HBox(children=(HTML(value='data sweep'), FloatProgress(value=0.0), HTML(value='')))"
      ]
     },
     "metadata": {},
     "output_type": "display_data"
    },
    {
     "data": {
      "application/vnd.jupyter.widget-view+json": {
       "model_id": "70df487e724b43bfb7c5dbda947130a2",
       "version_major": 2,
       "version_minor": 0
      },
      "text/plain": [
       "HBox(children=(VBox(children=(FloatSlider(value=0.0, continuous_update=False, description='$\\\\Phi_{ext}/\\\\Phi_…"
      ]
     },
     "metadata": {},
     "output_type": "display_data"
    },
    {
     "data": {
      "application/vnd.jupyter.widget-view+json": {
       "model_id": "d04915448b1047ed8d8fecf1aebec43b",
       "version_major": 2,
       "version_minor": 0
      },
      "text/plain": [
       "Output()"
      ]
     },
     "metadata": {},
     "output_type": "display_data"
    },
    {
     "name": "stdout",
     "output_type": "stream",
     "text": [
      "PASSED                                             [  1%]\n",
      "..\\..\\scqubits\\scqubits\\tests\\test_fluxonium.py::TestFluxonium::test_file_io "
     ]
    },
    {
     "data": {
      "application/vnd.jupyter.widget-view+json": {
       "model_id": "8954b43aa9e24378b5c67cf77722ca26",
       "version_major": 2,
       "version_minor": 0
      },
      "text/plain": [
       "HBox(children=(VBox(children=(HBox(children=(Label(value='EJ [GHz]'), FloatText(value=8.9, layout=Layout(width…"
      ]
     },
     "metadata": {},
     "output_type": "display_data"
    },
    {
     "data": {
      "application/vnd.jupyter.widget-view+json": {
       "model_id": "c58aff49131d450f844afca920b158a7",
       "version_major": 2,
       "version_minor": 0
      },
      "text/plain": [
       "Output()"
      ]
     },
     "metadata": {},
     "output_type": "display_data"
    },
    {
     "name": "stdout",
     "output_type": "stream",
     "text": [
      "PASSED                              [  2%]\n",
      "..\\..\\scqubits\\scqubits\\tests\\test_fluxonium.py::TestFluxonium::test_hamiltonian_is_hermitean PASSED             [  3%]\n",
      "..\\..\\scqubits\\scqubits\\tests\\test_fluxonium.py::TestFluxonium::test_eigenvals PASSED                            [  5%]\n",
      "..\\..\\scqubits\\scqubits\\tests\\test_fluxonium.py::TestFluxonium::test_eigenvecs PASSED                            [  6%]\n",
      "..\\..\\scqubits\\scqubits\\tests\\test_fluxonium.py::TestFluxonium::test_plot_wavefunction PASSED                    [  7%]\n",
      "..\\..\\scqubits\\scqubits\\tests\\test_fluxonium.py::TestFluxonium::test_plot_evals_vs_paramvals "
     ]
    },
    {
     "data": {
      "application/vnd.jupyter.widget-view+json": {
       "model_id": "",
       "version_major": 2,
       "version_minor": 0
      },
      "text/plain": [
       "HBox(children=(HTML(value='Spectral data'), FloatProgress(value=0.0, max=50.0), HTML(value='')))"
      ]
     },
     "metadata": {},
     "output_type": "display_data"
    },
    {
     "name": "stdout",
     "output_type": "stream",
     "text": [
      "PASSED              [  9%]\n",
      "..\\..\\scqubits\\scqubits\\tests\\test_fluxonium.py::TestFluxonium::test_get_spectrum_vs_paramvals "
     ]
    },
    {
     "data": {
      "application/vnd.jupyter.widget-view+json": {
       "model_id": "",
       "version_major": 2,
       "version_minor": 0
      },
      "text/plain": [
       "HBox(children=(HTML(value='Spectral data'), FloatProgress(value=0.0, max=51.0), HTML(value='')))"
      ]
     },
     "metadata": {},
     "output_type": "display_data"
    },
    {
     "name": "stdout",
     "output_type": "stream",
     "text": [
      "PASSED            [ 10%]\n",
      "..\\..\\scqubits\\scqubits\\tests\\test_fluxonium.py::TestFluxonium::test_matrixelement_table PASSED                  [ 11%]\n",
      "..\\..\\scqubits\\scqubits\\tests\\test_fluxonium.py::TestFluxonium::test_plot_matrixelements PASSED                  [ 12%]\n",
      "..\\..\\scqubits\\scqubits\\tests\\test_fluxonium.py::TestFluxonium::test_print_matrixelements PASSED                 [ 14%]\n",
      "..\\..\\scqubits\\scqubits\\tests\\test_fluxonium.py::TestFluxonium::test_plot_matelem_vs_paramvals "
     ]
    },
    {
     "data": {
      "application/vnd.jupyter.widget-view+json": {
       "model_id": "",
       "version_major": 2,
       "version_minor": 0
      },
      "text/plain": [
       "HBox(children=(HTML(value='Spectral data'), FloatProgress(value=0.0, max=50.0), HTML(value='')))"
      ]
     },
     "metadata": {},
     "output_type": "display_data"
    },
    {
     "data": {
      "application/vnd.jupyter.widget-view+json": {
       "model_id": "",
       "version_major": 2,
       "version_minor": 0
      },
      "text/plain": [
       "HBox(children=(HTML(value=''), FloatProgress(value=0.0, max=50.0), HTML(value='')))"
      ]
     },
     "metadata": {},
     "output_type": "display_data"
    },
    {
     "name": "stdout",
     "output_type": "stream",
     "text": [
      "PASSED            [ 15%]\n",
      "..\\..\\scqubits\\scqubits\\tests\\test_fluxonium.py::TestFluxonium::test_plot_potential SKIPPED (This is expecte...) [ 16%]\n",
      "..\\..\\scqubits\\scqubits\\tests\\test_fluxqubit.py::TestFluxQubit::test_file_io "
     ]
    },
    {
     "data": {
      "application/vnd.jupyter.widget-view+json": {
       "model_id": "977905b16a854ec8a64ce16ca1d149bd",
       "version_major": 2,
       "version_minor": 0
      },
      "text/plain": [
       "HBox(children=(VBox(children=(HBox(children=(Label(value='EJ1 [GHz]'), FloatText(value=1.0, layout=Layout(widt…"
      ]
     },
     "metadata": {},
     "output_type": "display_data"
    },
    {
     "data": {
      "application/vnd.jupyter.widget-view+json": {
       "model_id": "29d4b068f6a6484b99b0083f3a44d31e",
       "version_major": 2,
       "version_minor": 0
      },
      "text/plain": [
       "Output()"
      ]
     },
     "metadata": {},
     "output_type": "display_data"
    },
    {
     "name": "stdout",
     "output_type": "stream",
     "text": [
      "PASSED                              [ 18%]\n",
      "..\\..\\scqubits\\scqubits\\tests\\test_fluxqubit.py::TestFluxQubit::test_hamiltonian_is_hermitean PASSED             [ 19%]\n",
      "..\\..\\scqubits\\scqubits\\tests\\test_fluxqubit.py::TestFluxQubit::test_eigenvals PASSED                            [ 20%]\n",
      "..\\..\\scqubits\\scqubits\\tests\\test_fluxqubit.py::TestFluxQubit::test_eigenvecs PASSED                            [ 22%]\n",
      "..\\..\\scqubits\\scqubits\\tests\\test_fluxqubit.py::TestFluxQubit::test_plot_wavefunction PASSED                    [ 23%]\n",
      "..\\..\\scqubits\\scqubits\\tests\\test_fluxqubit.py::TestFluxQubit::test_plot_evals_vs_paramvals "
     ]
    },
    {
     "data": {
      "application/vnd.jupyter.widget-view+json": {
       "model_id": "",
       "version_major": 2,
       "version_minor": 0
      },
      "text/plain": [
       "HBox(children=(HTML(value='Spectral data'), FloatProgress(value=0.0, max=50.0), HTML(value='')))"
      ]
     },
     "metadata": {},
     "output_type": "display_data"
    },
    {
     "name": "stdout",
     "output_type": "stream",
     "text": [
      "PASSED              [ 24%]\n",
      "..\\..\\scqubits\\scqubits\\tests\\test_fluxqubit.py::TestFluxQubit::test_get_spectrum_vs_paramvals "
     ]
    },
    {
     "data": {
      "application/vnd.jupyter.widget-view+json": {
       "model_id": "",
       "version_major": 2,
       "version_minor": 0
      },
      "text/plain": [
       "HBox(children=(HTML(value='Spectral data'), FloatProgress(value=0.0, max=50.0), HTML(value='')))"
      ]
     },
     "metadata": {},
     "output_type": "display_data"
    },
    {
     "name": "stdout",
     "output_type": "stream",
     "text": [
      "PASSED            [ 25%]\n",
      "..\\..\\scqubits\\scqubits\\tests\\test_fluxqubit.py::TestFluxQubit::test_matrixelement_table PASSED                  [ 27%]\n",
      "..\\..\\scqubits\\scqubits\\tests\\test_fluxqubit.py::TestFluxQubit::test_plot_matrixelements PASSED                  [ 28%]\n",
      "..\\..\\scqubits\\scqubits\\tests\\test_fluxqubit.py::TestFluxQubit::test_print_matrixelements PASSED                 [ 29%]\n",
      "..\\..\\scqubits\\scqubits\\tests\\test_fluxqubit.py::TestFluxQubit::test_plot_matelem_vs_paramvals "
     ]
    },
    {
     "data": {
      "application/vnd.jupyter.widget-view+json": {
       "model_id": "",
       "version_major": 2,
       "version_minor": 0
      },
      "text/plain": [
       "HBox(children=(HTML(value='Spectral data'), FloatProgress(value=0.0, max=50.0), HTML(value='')))"
      ]
     },
     "metadata": {},
     "output_type": "display_data"
    },
    {
     "data": {
      "application/vnd.jupyter.widget-view+json": {
       "model_id": "",
       "version_major": 2,
       "version_minor": 0
      },
      "text/plain": [
       "HBox(children=(HTML(value=''), FloatProgress(value=0.0, max=50.0), HTML(value='')))"
      ]
     },
     "metadata": {},
     "output_type": "display_data"
    },
    {
     "name": "stdout",
     "output_type": "stream",
     "text": [
      "PASSED            [ 31%]\n",
      "..\\..\\scqubits\\scqubits\\tests\\test_fluxqubit.py::TestFluxQubit::test_plot_potential PASSED                       [ 32%]\n",
      "..\\..\\scqubits\\scqubits\\tests\\test_fullzeropi.py::TestFullZeroPi::test_file_io "
     ]
    },
    {
     "data": {
      "application/vnd.jupyter.widget-view+json": {
       "model_id": "5e636fae590249a8a492b493ab8be7ea",
       "version_major": 2,
       "version_minor": 0
      },
      "text/plain": [
       "HBox(children=(VBox(children=(HBox(children=(Label(value='EJ [GHz]'), FloatText(value=10.0, layout=Layout(widt…"
      ]
     },
     "metadata": {},
     "output_type": "display_data"
    },
    {
     "data": {
      "application/vnd.jupyter.widget-view+json": {
       "model_id": "15a3e1abb4694dadb597286821673602",
       "version_major": 2,
       "version_minor": 0
      },
      "text/plain": [
       "Output()"
      ]
     },
     "metadata": {},
     "output_type": "display_data"
    },
    {
     "data": {
      "application/vnd.jupyter.widget-view+json": {
       "model_id": "23e377f96602466c97b90e17fafc950d",
       "version_major": 2,
       "version_minor": 0
      },
      "text/plain": [
       "HBox(children=(VBox(children=(HBox(children=(Label(value='EJ [GHz]'), FloatText(value=10.0, layout=Layout(widt…"
      ]
     },
     "metadata": {},
     "output_type": "display_data"
    },
    {
     "data": {
      "application/vnd.jupyter.widget-view+json": {
       "model_id": "90692ce9783849f48307b34cedfe27ee",
       "version_major": 2,
       "version_minor": 0
      },
      "text/plain": [
       "Output()"
      ]
     },
     "metadata": {},
     "output_type": "display_data"
    },
    {
     "name": "stdout",
     "output_type": "stream",
     "text": [
      "PASSED                            [ 33%]\n",
      "..\\..\\scqubits\\scqubits\\tests\\test_fullzeropi.py::TestFullZeroPi::test_hamiltonian_is_hermitean PASSED           [ 35%]\n",
      "..\\..\\scqubits\\scqubits\\tests\\test_fullzeropi.py::TestFullZeroPi::test_eigenvals PASSED                          [ 36%]\n",
      "..\\..\\scqubits\\scqubits\\tests\\test_hilbertspace.py::TestHilbertSpace::test_HilbertSpace_init PASSED              [ 37%]\n",
      "..\\..\\scqubits\\scqubits\\tests\\test_hilbertspace.py::TestHilbertSpace::test_HilbertSpace_hamiltonian_is_hermitean PASSED [ 38%]\n",
      "..\\..\\scqubits\\scqubits\\tests\\test_hilbertspace.py::TestHilbertSpace::test_HilbertSpace_diagonalize_hamiltonian PASSED [ 40%]\n",
      "..\\..\\scqubits\\scqubits\\tests\\test_hilbertspace.py::TestHilbertSpace::test_HilbertSpace_get_spectrum_vs_paramvals "
     ]
    },
    {
     "data": {
      "application/vnd.jupyter.widget-view+json": {
       "model_id": "",
       "version_major": 2,
       "version_minor": 0
      },
      "text/plain": [
       "HBox(children=(HTML(value='Spectral data'), FloatProgress(value=0.0), HTML(value='')))"
      ]
     },
     "metadata": {},
     "output_type": "display_data"
    },
    {
     "name": "stdout",
     "output_type": "stream",
     "text": [
      "PASSED [ 41%]\n",
      "..\\..\\scqubits\\scqubits\\tests\\test_hilbertspace.py::TestHilbertSpace::test_HilbertSpace_eigenenergies PASSED     [ 42%]\n",
      "..\\..\\scqubits\\scqubits\\tests\\test_hilbertspace.py::TestHilbertSpace::test_HilbertSpace_fileIO "
     ]
    },
    {
     "data": {
      "application/vnd.jupyter.widget-view+json": {
       "model_id": "4a8bbf4b4fa64b94b7d359f7434e234e",
       "version_major": 2,
       "version_minor": 0
      },
      "text/plain": [
       "HBox(children=(VBox(children=(HBox(children=(Label(value='EJ [GHz]'), FloatText(value=8.9, layout=Layout(width…"
      ]
     },
     "metadata": {},
     "output_type": "display_data"
    },
    {
     "data": {
      "application/vnd.jupyter.widget-view+json": {
       "model_id": "d335df7d71be429d8ad581902e581953",
       "version_major": 2,
       "version_minor": 0
      },
      "text/plain": [
       "Output()"
      ]
     },
     "metadata": {},
     "output_type": "display_data"
    },
    {
     "data": {
      "application/vnd.jupyter.widget-view+json": {
       "model_id": "39685af519db4aefab7ffb90bed256e2",
       "version_major": 2,
       "version_minor": 0
      },
      "text/plain": [
       "HBox(children=(VBox(children=(HBox(children=(Label(value='EJ [GHz]'), FloatText(value=10.0, layout=Layout(widt…"
      ]
     },
     "metadata": {},
     "output_type": "display_data"
    },
    {
     "data": {
      "application/vnd.jupyter.widget-view+json": {
       "model_id": "c81754d9f4a84d08863b5f41abe67cb4",
       "version_major": 2,
       "version_minor": 0
      },
      "text/plain": [
       "Output()"
      ]
     },
     "metadata": {},
     "output_type": "display_data"
    },
    {
     "name": "stdout",
     "output_type": "stream",
     "text": [
      "PASSED            [ 44%]\n",
      "..\\..\\scqubits\\scqubits\\tests\\test_hilbertspace.py::TestParameterSweep::test_ParameterSweep "
     ]
    },
    {
     "data": {
      "application/vnd.jupyter.widget-view+json": {
       "model_id": "",
       "version_major": 2,
       "version_minor": 0
      },
      "text/plain": [
       "HBox(children=(HTML(value='Bare spectra'), FloatProgress(value=0.0), HTML(value='')))"
      ]
     },
     "metadata": {},
     "output_type": "display_data"
    },
    {
     "data": {
      "application/vnd.jupyter.widget-view+json": {
       "model_id": "",
       "version_major": 2,
       "version_minor": 0
      },
      "text/plain": [
       "HBox(children=(HTML(value='Dressed spectrum'), FloatProgress(value=0.0), HTML(value='')))"
      ]
     },
     "metadata": {},
     "output_type": "display_data"
    },
    {
     "data": {
      "application/vnd.jupyter.widget-view+json": {
       "model_id": "",
       "version_major": 2,
       "version_minor": 0
      },
      "text/plain": [
       "HBox(children=(HTML(value='difference spectrum'), FloatProgress(value=0.0), HTML(value='')))"
      ]
     },
     "metadata": {},
     "output_type": "display_data"
    },
    {
     "name": "stdout",
     "output_type": "stream",
     "text": [
      "PASSED               [ 45%]\n",
      "..\\..\\scqubits\\scqubits\\tests\\test_hilbertspace.py::TestParameterSweep::test_ParameterSweep_fileIO "
     ]
    },
    {
     "data": {
      "application/vnd.jupyter.widget-view+json": {
       "model_id": "",
       "version_major": 2,
       "version_minor": 0
      },
      "text/plain": [
       "HBox(children=(HTML(value='Bare spectra'), FloatProgress(value=0.0), HTML(value='')))"
      ]
     },
     "metadata": {},
     "output_type": "display_data"
    },
    {
     "data": {
      "application/vnd.jupyter.widget-view+json": {
       "model_id": "",
       "version_major": 2,
       "version_minor": 0
      },
      "text/plain": [
       "HBox(children=(HTML(value='Dressed spectrum'), FloatProgress(value=0.0), HTML(value='')))"
      ]
     },
     "metadata": {},
     "output_type": "display_data"
    },
    {
     "name": "stdout",
     "output_type": "stream",
     "text": [
      "PASSED        [ 46%]\n",
      "..\\..\\scqubits\\scqubits\\tests\\test_noise.py::TestNoise::test_Transmon PASSED                                     [ 48%]\n",
      "..\\..\\scqubits\\scqubits\\tests\\test_noise.py::TestNoise::test_TunableTransmon PASSED                              [ 49%]\n",
      "..\\..\\scqubits\\scqubits\\tests\\test_noise.py::TestNoise::test_Fluxonium PASSED                                    [ 50%]\n",
      "..\\..\\scqubits\\scqubits\\tests\\test_noise.py::TestNoise::test_FluxQubit PASSED                                    [ 51%]\n",
      "..\\..\\scqubits\\scqubits\\tests\\test_noise.py::TestNoise::test_ZeroPi PASSED                                       [ 53%]\n",
      "..\\..\\scqubits\\scqubits\\tests\\test_spectrumlookup.py::TestSpectrumLookup::test_hilbertspace_generate_lookup PASSED [ 54%]\n",
      "..\\..\\scqubits\\scqubits\\tests\\test_spectrumlookup.py::TestSpectrumLookup::test_hilbertspace_lookup_bare_eigenenergies PASSED [ 55%]\n",
      "..\\..\\scqubits\\scqubits\\tests\\test_spectrumlookup.py::TestSpectrumLookup::test_hilbertspace_lookup_bare_index PASSED [ 57%]\n",
      "..\\..\\scqubits\\scqubits\\tests\\test_spectrumlookup.py::TestSpectrumLookup::test_hilbertspace_lookup_dressed_index PASSED [ 58%]\n",
      "..\\..\\scqubits\\scqubits\\tests\\test_spectrumlookup.py::TestSpectrumLookup::test_hilbertspace_lookup_bare_eigenstates PASSED [ 59%]\n",
      "..\\..\\scqubits\\scqubits\\tests\\test_spectrumlookup.py::TestParameterSweep::test_sweep_bare_eigenenergies "
     ]
    },
    {
     "data": {
      "application/vnd.jupyter.widget-view+json": {
       "model_id": "",
       "version_major": 2,
       "version_minor": 0
      },
      "text/plain": [
       "HBox(children=(HTML(value='Bare spectra'), FloatProgress(value=0.0, max=300.0), HTML(value='')))"
      ]
     },
     "metadata": {},
     "output_type": "display_data"
    },
    {
     "data": {
      "application/vnd.jupyter.widget-view+json": {
       "model_id": "",
       "version_major": 2,
       "version_minor": 0
      },
      "text/plain": [
       "HBox(children=(HTML(value='Dressed spectrum'), FloatProgress(value=0.0, max=300.0), HTML(value='')))"
      ]
     },
     "metadata": {},
     "output_type": "display_data"
    },
    {
     "name": "stdout",
     "output_type": "stream",
     "text": [
      "PASSED   [ 61%]\n",
      "..\\..\\scqubits\\scqubits\\tests\\test_spectrumlookup.py::TestParameterSweep::test_sweep_bare_eigenstates "
     ]
    },
    {
     "data": {
      "application/vnd.jupyter.widget-view+json": {
       "model_id": "",
       "version_major": 2,
       "version_minor": 0
      },
      "text/plain": [
       "HBox(children=(HTML(value='Bare spectra'), FloatProgress(value=0.0, max=300.0), HTML(value='')))"
      ]
     },
     "metadata": {},
     "output_type": "display_data"
    },
    {
     "data": {
      "application/vnd.jupyter.widget-view+json": {
       "model_id": "",
       "version_major": 2,
       "version_minor": 0
      },
      "text/plain": [
       "HBox(children=(HTML(value='Dressed spectrum'), FloatProgress(value=0.0, max=300.0), HTML(value='')))"
      ]
     },
     "metadata": {},
     "output_type": "display_data"
    },
    {
     "name": "stdout",
     "output_type": "stream",
     "text": [
      "PASSED     [ 62%]\n",
      "..\\..\\scqubits\\scqubits\\tests\\test_transmon.py::TestTransmon::test_file_io "
     ]
    },
    {
     "data": {
      "application/vnd.jupyter.widget-view+json": {
       "model_id": "e88660f62db3426b9b72243b0af5860f",
       "version_major": 2,
       "version_minor": 0
      },
      "text/plain": [
       "HBox(children=(VBox(children=(HBox(children=(Label(value='EJ [GHz]'), FloatText(value=15.0, layout=Layout(widt…"
      ]
     },
     "metadata": {},
     "output_type": "display_data"
    },
    {
     "data": {
      "application/vnd.jupyter.widget-view+json": {
       "model_id": "468545342a9b491f8186b301ba33f4bf",
       "version_major": 2,
       "version_minor": 0
      },
      "text/plain": [
       "Output()"
      ]
     },
     "metadata": {},
     "output_type": "display_data"
    },
    {
     "name": "stdout",
     "output_type": "stream",
     "text": [
      "PASSED                                [ 63%]\n",
      "..\\..\\scqubits\\scqubits\\tests\\test_transmon.py::TestTransmon::test_hamiltonian_is_hermitean PASSED               [ 64%]\n",
      "..\\..\\scqubits\\scqubits\\tests\\test_transmon.py::TestTransmon::test_eigenvals PASSED                              [ 66%]\n",
      "..\\..\\scqubits\\scqubits\\tests\\test_transmon.py::TestTransmon::test_eigenvecs PASSED                              [ 67%]\n",
      "..\\..\\scqubits\\scqubits\\tests\\test_transmon.py::TestTransmon::test_plot_wavefunction PASSED                      [ 68%]\n",
      "..\\..\\scqubits\\scqubits\\tests\\test_transmon.py::TestTransmon::test_plot_evals_vs_paramvals "
     ]
    },
    {
     "data": {
      "application/vnd.jupyter.widget-view+json": {
       "model_id": "",
       "version_major": 2,
       "version_minor": 0
      },
      "text/plain": [
       "HBox(children=(HTML(value='Spectral data'), FloatProgress(value=0.0), HTML(value='')))"
      ]
     },
     "metadata": {},
     "output_type": "display_data"
    },
    {
     "name": "stdout",
     "output_type": "stream",
     "text": [
      "PASSED                [ 70%]\n",
      "..\\..\\scqubits\\scqubits\\tests\\test_transmon.py::TestTransmon::test_get_spectrum_vs_paramvals "
     ]
    },
    {
     "data": {
      "application/vnd.jupyter.widget-view+json": {
       "model_id": "",
       "version_major": 2,
       "version_minor": 0
      },
      "text/plain": [
       "HBox(children=(HTML(value='Spectral data'), FloatProgress(value=0.0, max=50.0), HTML(value='')))"
      ]
     },
     "metadata": {},
     "output_type": "display_data"
    },
    {
     "name": "stdout",
     "output_type": "stream",
     "text": [
      "PASSED              [ 71%]\n",
      "..\\..\\scqubits\\scqubits\\tests\\test_transmon.py::TestTransmon::test_matrixelement_table PASSED                    [ 72%]\n",
      "..\\..\\scqubits\\scqubits\\tests\\test_transmon.py::TestTransmon::test_plot_matrixelements PASSED                    [ 74%]\n",
      "..\\..\\scqubits\\scqubits\\tests\\test_transmon.py::TestTransmon::test_print_matrixelements PASSED                   [ 75%]\n",
      "..\\..\\scqubits\\scqubits\\tests\\test_transmon.py::TestTransmon::test_plot_matelem_vs_paramvals "
     ]
    },
    {
     "data": {
      "application/vnd.jupyter.widget-view+json": {
       "model_id": "",
       "version_major": 2,
       "version_minor": 0
      },
      "text/plain": [
       "HBox(children=(HTML(value='Spectral data'), FloatProgress(value=0.0), HTML(value='')))"
      ]
     },
     "metadata": {},
     "output_type": "display_data"
    },
    {
     "data": {
      "application/vnd.jupyter.widget-view+json": {
       "model_id": "",
       "version_major": 2,
       "version_minor": 0
      },
      "text/plain": [
       "HBox(children=(HTML(value=''), FloatProgress(value=0.0), HTML(value='')))"
      ]
     },
     "metadata": {},
     "output_type": "display_data"
    },
    {
     "name": "stdout",
     "output_type": "stream",
     "text": [
      "PASSED              [ 76%]\n",
      "..\\..\\scqubits\\scqubits\\tests\\test_transmon.py::TestTransmon::test_plot_potential SKIPPED (This is expected,...) [ 77%]\n",
      "..\\..\\scqubits\\scqubits\\tests\\test_transmon.py::TestTransmon::test_plot_n_wavefunction PASSED                    [ 79%]\n",
      "..\\..\\scqubits\\scqubits\\tests\\test_units.py::TestUnits::test_get_units PASSED                                    [ 80%]\n",
      "..\\..\\scqubits\\scqubits\\tests\\test_units.py::TestUnits::test_set_units PASSED                                    [ 81%]\n",
      "..\\..\\scqubits\\scqubits\\tests\\test_units.py::TestUnits::test_units_warning PASSED                                [ 83%]\n",
      "..\\..\\scqubits\\scqubits\\tests\\test_units.py::TestUnits::test_units_auxiliary PASSED                              [ 84%]\n",
      "..\\..\\scqubits\\scqubits\\tests\\test_zeropi.py::TestZeroPi::test_file_io "
     ]
    },
    {
     "data": {
      "application/vnd.jupyter.widget-view+json": {
       "model_id": "7f93f46e9ec54c44805444f74bfd8c50",
       "version_major": 2,
       "version_minor": 0
      },
      "text/plain": [
       "HBox(children=(VBox(children=(HBox(children=(Label(value='EJ [kHz]'), FloatText(value=10.0, layout=Layout(widt…"
      ]
     },
     "metadata": {},
     "output_type": "display_data"
    },
    {
     "data": {
      "application/vnd.jupyter.widget-view+json": {
       "model_id": "3202899145ad46c98a3e3d6f659c52a0",
       "version_major": 2,
       "version_minor": 0
      },
      "text/plain": [
       "Output()"
      ]
     },
     "metadata": {},
     "output_type": "display_data"
    },
    {
     "name": "stdout",
     "output_type": "stream",
     "text": [
      "PASSED                                    [ 85%]\n",
      "..\\..\\scqubits\\scqubits\\tests\\test_zeropi.py::TestZeroPi::test_hamiltonian_is_hermitean PASSED                   [ 87%]\n",
      "..\\..\\scqubits\\scqubits\\tests\\test_zeropi.py::TestZeroPi::test_eigenvals PASSED                                  [ 88%]\n",
      "..\\..\\scqubits\\scqubits\\tests\\test_zeropi.py::TestZeroPi::test_eigenvecs PASSED                                  [ 89%]\n",
      "..\\..\\scqubits\\scqubits\\tests\\test_zeropi.py::TestZeroPi::test_plot_wavefunction PASSED                          [ 90%]\n",
      "..\\..\\scqubits\\scqubits\\tests\\test_zeropi.py::TestZeroPi::test_plot_evals_vs_paramvals "
     ]
    },
    {
     "data": {
      "application/vnd.jupyter.widget-view+json": {
       "model_id": "",
       "version_major": 2,
       "version_minor": 0
      },
      "text/plain": [
       "HBox(children=(HTML(value='Spectral data'), FloatProgress(value=0.0, max=15.0), HTML(value='')))"
      ]
     },
     "metadata": {},
     "output_type": "display_data"
    },
    {
     "name": "stdout",
     "output_type": "stream",
     "text": [
      "PASSED                    [ 92%]\n",
      "..\\..\\scqubits\\scqubits\\tests\\test_zeropi.py::TestZeroPi::test_get_spectrum_vs_paramvals "
     ]
    },
    {
     "data": {
      "application/vnd.jupyter.widget-view+json": {
       "model_id": "",
       "version_major": 2,
       "version_minor": 0
      },
      "text/plain": [
       "HBox(children=(HTML(value='Spectral data'), FloatProgress(value=0.0, max=3.0), HTML(value='')))"
      ]
     },
     "metadata": {},
     "output_type": "display_data"
    },
    {
     "name": "stdout",
     "output_type": "stream",
     "text": [
      "PASSED                  [ 93%]\n",
      "..\\..\\scqubits\\scqubits\\tests\\test_zeropi.py::TestZeroPi::test_matrixelement_table PASSED                        [ 94%]\n",
      "..\\..\\scqubits\\scqubits\\tests\\test_zeropi.py::TestZeroPi::test_plot_matrixelements PASSED                        [ 96%]\n",
      "..\\..\\scqubits\\scqubits\\tests\\test_zeropi.py::TestZeroPi::test_print_matrixelements PASSED                       [ 97%]\n",
      "..\\..\\scqubits\\scqubits\\tests\\test_zeropi.py::TestZeroPi::test_plot_matelem_vs_paramvals "
     ]
    },
    {
     "data": {
      "application/vnd.jupyter.widget-view+json": {
       "model_id": "",
       "version_major": 2,
       "version_minor": 0
      },
      "text/plain": [
       "HBox(children=(HTML(value='Spectral data'), FloatProgress(value=0.0, max=15.0), HTML(value='')))"
      ]
     },
     "metadata": {},
     "output_type": "display_data"
    },
    {
     "data": {
      "application/vnd.jupyter.widget-view+json": {
       "model_id": "",
       "version_major": 2,
       "version_minor": 0
      },
      "text/plain": [
       "HBox(children=(HTML(value=''), FloatProgress(value=0.0, max=15.0), HTML(value='')))"
      ]
     },
     "metadata": {},
     "output_type": "display_data"
    },
    {
     "name": "stdout",
     "output_type": "stream",
     "text": [
      "PASSED                  [ 98%]\n",
      "..\\..\\scqubits\\scqubits\\tests\\test_zeropi.py::TestZeroPi::test_plot_potential PASSED                             [100%]\n",
      "\n",
      "================================================== warnings summary ===================================================\n",
      "..\\..\\..\\..\\..\\miniconda3\\lib\\site-packages\\pyreadline\\py3k_compat.py:8\n",
      "  DeprecationWarning: Using or importing the ABCs from 'collections' instead of from 'collections.abc' is deprecated since Python 3.3, and in 3.9 it will stop working\n",
      "   C:\\Users\\drjen\\miniconda3\\lib\\site-packages\\pyreadline\\py3k_compat.py: 8\n",
      "\n",
      "scqubits/tests/test_units.py::TestUnits::test_set_units\n",
      "scqubits/tests/test_units.py::TestUnits::test_units_warning\n",
      "scqubits/tests/test_units.py::TestUnits::test_units_warning\n",
      "  UserWarning: Changing units (by calling set_units()) after initializing qubit instances is likely to cause unintended inconsistencies.\n",
      "   c:\\users\\drjen\\onedrive\\coding\\pycharmprojects\\scqubits\\scqubits\\core\\units.py: 46\n",
      "\n",
      "-- Docs: https://docs.pytest.org/en/stable/warnings.html\n",
      "=============================== 75 passed, 2 skipped, 4 warnings in 3048.60s (0:50:48) ================================\n"
     ]
    }
   ],
   "source": [
    "%matplotlib inline\n",
    "%config InlineBackend.figure_format = 'svg'\n",
    "\n",
    "import scqubits.testing as tst\n",
    "tst.run()"
   ]
  },
  {
   "cell_type": "code",
   "execution_count": null,
   "metadata": {},
   "outputs": [],
   "source": []
  }
 ],
 "metadata": {
  "kernelspec": {
   "display_name": "Python 3",
   "language": "python",
   "name": "python3"
  },
  "language_info": {
   "codemirror_mode": {
    "name": "ipython",
    "version": 3
   },
   "file_extension": ".py",
   "mimetype": "text/x-python",
   "name": "python",
   "nbconvert_exporter": "python",
   "pygments_lexer": "ipython3",
   "version": "3.8.5"
  },
  "toc": {
   "base_numbering": 1,
   "nav_menu": {},
   "number_sections": false,
   "sideBar": true,
   "skip_h1_title": true,
   "title_cell": "Table of Contents",
   "title_sidebar": "Contents",
   "toc_cell": false,
   "toc_position": {},
   "toc_section_display": true,
   "toc_window_display": true
  },
  "varInspector": {
   "cols": {
    "lenName": 16,
    "lenType": 16,
    "lenVar": 40
   },
   "kernels_config": {
    "python": {
     "delete_cmd_postfix": "",
     "delete_cmd_prefix": "del ",
     "library": "var_list.py",
     "varRefreshCmd": "print(var_dic_list())"
    },
    "r": {
     "delete_cmd_postfix": ") ",
     "delete_cmd_prefix": "rm(",
     "library": "var_list.r",
     "varRefreshCmd": "cat(var_dic_list()) "
    }
   },
   "types_to_exclude": [
    "module",
    "function",
    "builtin_function_or_method",
    "instance",
    "_Feature"
   ],
   "window_display": false
  }
 },
 "nbformat": 4,
 "nbformat_minor": 2
}
