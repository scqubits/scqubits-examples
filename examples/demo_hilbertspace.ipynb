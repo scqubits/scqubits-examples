{
 "cells": [
  {
   "cell_type": "markdown",
   "metadata": {},
   "source": [
    "# scqubits example: composite Hilbert spaces\n",
    "J. Koch and P. Groszkowski<br>\n",
    "E. Blackwell\n",
    "\n",
    "For further documentation of scqubits see https://scqubits.readthedocs.io/en/latest/.\n",
    "\n",
    "---"
   ]
  },
  {
   "cell_type": "code",
   "execution_count": 1,
   "metadata": {
    "ExecuteTime": {
     "end_time": "2020-03-31T11:43:53.057632Z",
     "start_time": "2020-03-31T11:43:53.000813Z"
    },
    "init_cell": true,
    "pycharm": {
     "is_executing": false
    },
    "scrolled": true
   },
   "outputs": [],
   "source": [
    "%matplotlib inline\n",
    "%config InlineBackend.figure_format = 'svg'\n",
    "\n",
    "import scqubits as scq\n",
    "\n",
    "import numpy as np\n",
    "import qutip as qt\n"
   ]
  },
  {
   "cell_type": "markdown",
   "metadata": {},
   "source": [
    "# Working with composite Hilbert spaces and interfacing with QuTiP\n",
    "\n",
    "Systems of interest for quantum information processing will involve multiple qubits as well as oscillators with mutual coupling. The resulting Hilbert space is the tensor product of the individual constituent Hilbert spaces. The `HilbertSpace` class allows one to define such coupled systems, to define the interactions between them, and to contruct the overall Hamiltonian. From this, dressed eigenenergies and eigenstates can be extracted. The operator matrices and state vectors  at the `HilbertSpace` level are given as QuTiP `Qobj` instances. This interface to QuTiP is particularly helpful if the task at hand is the simulation of time-dependent dynamics of the coupled system, perhaps including additional drive terms."
   ]
  },
  {
   "cell_type": "markdown",
   "metadata": {},
   "source": [
    "## Example: two ocilllator qubits coupled by an rf SQUID\n",
    "\n",
    "As an interesting example of a coupled quantum system consider two harmonic modes coupled by an rf SQUID. The effective Hamiltonian describing this composite system, after integrating out the SQUID degrees of freedom,  is given by [https://www.nature.com/articles/s41567-019-0703-5]\n",
    "\n",
    "$\\displaystyle H/\\hbar = \\omega_a a^\\dagger a + \\omega_b b^\\dagger b + g(a^\\dagger b + a b^\\dagger) + g_2(a^\\dagger a^\\dagger b + a a b^\\dagger) + \\chi_{ab} a^\\dagger ab^\\dagger b + \\frac{\\chi_{aa}}{2} a^\\dagger a^\\dagger a a + \\frac{\\chi_{bb}}{2} b^\\dagger b^\\dagger b b$.\n",
    "\n",
    "\n",
    "### Define Hilbert space components, initialize `HilbertSpace` object\n",
    "\n",
    "To set up the Hilbert space, we define the separate components as Kerr oscillators and initialize a `HilbertSpace` object by submitting the list of all subsystems:"
   ]
  },
  {
   "cell_type": "code",
   "execution_count": 2,
   "metadata": {
    "ExecuteTime": {
     "end_time": "2020-03-31T11:43:54.037807Z",
     "start_time": "2020-03-31T11:43:54.024841Z"
    },
    "pycharm": {
     "name": "#%%\n"
    }
   },
   "outputs": [],
   "source": [
    "# Set up the components / subspaces of our Hilbert space\n",
    "\n",
    "osc1 = scq.KerrOscillator(\n",
    "    E_osc = 4.284,\n",
    "    K = 0.003,\n",
    "    l_osc = 1,\n",
    "    truncated_dim = 4,\n",
    ")\n",
    "\n",
    "osc2 = scq.KerrOscillator(\n",
    "    E_osc = 7.073,\n",
    "    K = 0.015,\n",
    "    l_osc = 1,\n",
    "    truncated_dim = 4,\n",
    ")\n",
    "\n",
    "# Form a list of all components making up the Hilbert space.\n",
    "hilbertspace = scq.HilbertSpace([osc1, osc2])"
   ]
  },
  {
   "cell_type": "code",
   "execution_count": 3,
   "metadata": {
    "ExecuteTime": {
     "end_time": "2020-03-31T11:43:54.772581Z",
     "start_time": "2020-03-31T11:43:54.765597Z"
    }
   },
   "outputs": [
    {
     "name": "stdout",
     "output_type": "stream",
     "text": [
      "HilbertSpace:  subsystems\n",
      "-------------------------\n",
      "\n",
      "KerrOscillator------| [KerrOscillator_1]\n",
      "                    | E_osc: 4.284\n",
      "                    | K: 0.003\n",
      "                    | l_osc: 1\n",
      "                    | truncated_dim: 4\n",
      "                    |\n",
      "                    | dim: 4\n",
      "\n",
      "\n",
      "KerrOscillator------| [KerrOscillator_2]\n",
      "                    | E_osc: 7.073\n",
      "                    | K: 0.015\n",
      "                    | l_osc: 1\n",
      "                    | truncated_dim: 4\n",
      "                    |\n",
      "                    | dim: 4\n",
      "\n",
      "\n"
     ]
    }
   ],
   "source": [
    "print(hilbertspace)"
   ]
  },
  {
   "cell_type": "markdown",
   "metadata": {
    "pycharm": {
     "name": "#%% md\n"
    }
   },
   "source": [
    "While we yet have to set up the interactions between the components, we can already obtain the bare Hamiltonian of the non-interacting subsystems, expressed as a matrix in the joint Hilbert space:"
   ]
  },
  {
   "cell_type": "code",
   "execution_count": 4,
   "metadata": {
    "ExecuteTime": {
     "end_time": "2020-03-31T11:43:56.149663Z",
     "start_time": "2020-03-31T11:43:56.110801Z"
    },
    "pycharm": {
     "name": "#%%\n"
    }
   },
   "outputs": [
    {
     "data": {
      "text/latex": [
       "Quantum object: dims = [[4, 4], [4, 4]], shape = (16, 16), type = oper, isherm = True\\begin{equation*}\\left(\\begin{array}{*{11}c}0.0 & 0.0 & 0.0 & 0.0 & 0.0 & \\cdots & 0.0 & 0.0 & 0.0 & 0.0 & 0.0\\\\0.0 & 7.073 & 0.0 & 0.0 & 0.0 & \\cdots & 0.0 & 0.0 & 0.0 & 0.0 & 0.0\\\\0.0 & 0.0 & 14.116 & 0.0 & 0.0 & \\cdots & 0.0 & 0.0 & 0.0 & 0.0 & 0.0\\\\0.0 & 0.0 & 0.0 & 21.129 & 0.0 & \\cdots & 0.0 & 0.0 & 0.0 & 0.0 & 0.0\\\\0.0 & 0.0 & 0.0 & 0.0 & 4.284 & \\cdots & 0.0 & 0.0 & 0.0 & 0.0 & 0.0\\\\\\vdots & \\vdots & \\vdots & \\vdots & \\vdots & \\ddots & \\vdots & \\vdots & \\vdots & \\vdots & \\vdots\\\\0.0 & 0.0 & 0.0 & 0.0 & 0.0 & \\cdots & 29.691 & 0.0 & 0.0 & 0.0 & 0.0\\\\0.0 & 0.0 & 0.0 & 0.0 & 0.0 & \\cdots & 0.0 & 12.834 & 0.0 & 0.0 & 0.0\\\\0.0 & 0.0 & 0.0 & 0.0 & 0.0 & \\cdots & 0.0 & 0.0 & 19.907 & 0.0 & 0.0\\\\0.0 & 0.0 & 0.0 & 0.0 & 0.0 & \\cdots & 0.0 & 0.0 & 0.0 & 26.950 & 0.0\\\\0.0 & 0.0 & 0.0 & 0.0 & 0.0 & \\cdots & 0.0 & 0.0 & 0.0 & 0.0 & 33.963\\\\\\end{array}\\right)\\end{equation*}"
      ],
      "text/plain": [
       "Quantum object: dims = [[4, 4], [4, 4]], shape = (16, 16), type = oper, isherm = True\n",
       "Qobj data =\n",
       "[[ 0.     0.     0.     0.     0.     0.     0.     0.     0.     0.\n",
       "   0.     0.     0.     0.     0.     0.   ]\n",
       " [ 0.     7.073  0.     0.     0.     0.     0.     0.     0.     0.\n",
       "   0.     0.     0.     0.     0.     0.   ]\n",
       " [ 0.     0.    14.116  0.     0.     0.     0.     0.     0.     0.\n",
       "   0.     0.     0.     0.     0.     0.   ]\n",
       " [ 0.     0.     0.    21.129  0.     0.     0.     0.     0.     0.\n",
       "   0.     0.     0.     0.     0.     0.   ]\n",
       " [ 0.     0.     0.     0.     4.284  0.     0.     0.     0.     0.\n",
       "   0.     0.     0.     0.     0.     0.   ]\n",
       " [ 0.     0.     0.     0.     0.    11.357  0.     0.     0.     0.\n",
       "   0.     0.     0.     0.     0.     0.   ]\n",
       " [ 0.     0.     0.     0.     0.     0.    18.4    0.     0.     0.\n",
       "   0.     0.     0.     0.     0.     0.   ]\n",
       " [ 0.     0.     0.     0.     0.     0.     0.    25.413  0.     0.\n",
       "   0.     0.     0.     0.     0.     0.   ]\n",
       " [ 0.     0.     0.     0.     0.     0.     0.     0.     8.562  0.\n",
       "   0.     0.     0.     0.     0.     0.   ]\n",
       " [ 0.     0.     0.     0.     0.     0.     0.     0.     0.    15.635\n",
       "   0.     0.     0.     0.     0.     0.   ]\n",
       " [ 0.     0.     0.     0.     0.     0.     0.     0.     0.     0.\n",
       "  22.678  0.     0.     0.     0.     0.   ]\n",
       " [ 0.     0.     0.     0.     0.     0.     0.     0.     0.     0.\n",
       "   0.    29.691  0.     0.     0.     0.   ]\n",
       " [ 0.     0.     0.     0.     0.     0.     0.     0.     0.     0.\n",
       "   0.     0.    12.834  0.     0.     0.   ]\n",
       " [ 0.     0.     0.     0.     0.     0.     0.     0.     0.     0.\n",
       "   0.     0.     0.    19.907  0.     0.   ]\n",
       " [ 0.     0.     0.     0.     0.     0.     0.     0.     0.     0.\n",
       "   0.     0.     0.     0.    26.95   0.   ]\n",
       " [ 0.     0.     0.     0.     0.     0.     0.     0.     0.     0.\n",
       "   0.     0.     0.     0.     0.    33.963]]"
      ]
     },
     "execution_count": 4,
     "metadata": {},
     "output_type": "execute_result"
    }
   ],
   "source": [
    "bare_hamiltonian = hilbertspace.bare_hamiltonian()\n",
    "bare_hamiltonian"
   ]
  },
  {
   "cell_type": "markdown",
   "metadata": {
    "pycharm": {
     "name": "#%% md\n"
    }
   },
   "source": [
    "The Hamiltonian matrix is given in the form of a QuTiP quantum object.\n",
    "This facilitates simple incorporation of Hamiltonians generated with `scqubits` into any of the solvers QuTiP offers for time evolution."
   ]
  },
  {
   "cell_type": "markdown",
   "metadata": {
    "pycharm": {
     "name": "#%% md\n"
    }
   },
   "source": [
    "### Set up interaction terms between individual subsystems"
   ]
  },
  {
   "cell_type": "markdown",
   "metadata": {},
   "source": [
    "1. $g(a^\\dagger b + a b^\\dagger)$\n",
    "2. $g_2(a^\\dagger a^\\dagger b + a a b^\\dagger)$\n",
    "3. $\\chi_{ab} a^\\dagger ab^\\dagger b$"
   ]
  },
  {
   "cell_type": "code",
   "execution_count": 5,
   "metadata": {
    "ExecuteTime": {
     "end_time": "2020-03-31T11:44:00.099411Z",
     "start_time": "2020-03-31T11:44:00.092429Z"
    },
    "pycharm": {
     "name": "#%%\n"
    }
   },
   "outputs": [],
   "source": [
    "# Term 1\n",
    "# Option A: operator product specification via callables\n",
    "\n",
    "g = 0.1\n",
    "\n",
    "hilbertspace.add_interaction(\n",
    "    g_strength = g,\n",
    "    op1 = osc1.creation_operator,\n",
    "    op2 = osc2.annihilation_operator,\n",
    "    add_hc = True\n",
    ")\n",
    "\n",
    "\n",
    "# Term 2\n",
    "# Option B: string-based specification of interaction term\n",
    "\n",
    "g2 = 0.035 \n",
    "\n",
    "hilbertspace.add_interaction(\n",
    "    expr = \"g2 * (adag * adag * b)\",\n",
    "    op1 = (\"adag\", osc1.creation_operator),\n",
    "    op2 = (\"b\", osc2.annihilation_operator),\n",
    "    add_hc = True\n",
    ")\n",
    "\n",
    "\n",
    "# Term 3\n",
    "\n",
    "chi_ab = 0.01\n",
    "\n",
    "hilbertspace.add_interaction(\n",
    "    expr = \"chi_ab * a.dag() * a.dag() * b.dag() * b\",\n",
    "    op1 = (\"a\", osc1.annihilation_operator),\n",
    "    op2 = (\"b\", osc2.annihilation_operator),\n",
    "    add_hc = True\n",
    ")\n",
    "\n"
   ]
  },
  {
   "cell_type": "markdown",
   "metadata": {
    "pycharm": {
     "name": "#%% md\n"
    }
   },
   "source": [
    "Now that the interactions are specified, the full Hamiltonian of the coupled system can be obtained via:"
   ]
  },
  {
   "cell_type": "code",
   "execution_count": 6,
   "metadata": {
    "ExecuteTime": {
     "end_time": "2020-03-31T11:44:03.627440Z",
     "start_time": "2020-03-31T11:44:03.599501Z"
    },
    "pycharm": {
     "name": "#%%\n"
    }
   },
   "outputs": [
    {
     "data": {
      "text/latex": [
       "Quantum object: dims = [[4, 4], [4, 4]], shape = (16, 16), type = oper, isherm = True\\begin{equation*}\\left(\\begin{array}{*{11}c}0.0 & 0.0 & 0.0 & 0.0 & 0.0 & \\cdots & 0.0 & 0.0 & 0.0 & 0.0 & 0.0\\\\0.0 & 7.073 & 0.0 & 0.0 & 0.100 & \\cdots & 0.0 & 0.0 & 0.0 & 0.0 & 0.0\\\\0.0 & 0.0 & 14.116 & 0.0 & 0.0 & \\cdots & 0.0 & 0.0 & 0.0 & 0.0 & 0.0\\\\0.0 & 0.0 & 0.0 & 21.129 & 0.0 & \\cdots & 0.042 & 0.0 & 0.0 & 0.0 & 0.0\\\\0.0 & 0.100 & 0.0 & 0.0 & 4.284 & \\cdots & 0.0 & 0.0 & 0.0 & 0.0 & 0.0\\\\\\vdots & \\vdots & \\vdots & \\vdots & \\vdots & \\ddots & \\vdots & \\vdots & \\vdots & \\vdots & \\vdots\\\\0.0 & 0.0 & 0.0 & 0.042 & 0.0 & \\cdots & 29.691 & 0.0 & 0.0 & 0.300 & 0.0\\\\0.0 & 0.0 & 0.0 & 0.0 & 0.0 & \\cdots & 0.0 & 12.834 & 0.0 & 0.0 & 0.0\\\\0.0 & 0.0 & 0.0 & 0.0 & 0.0 & \\cdots & 0.0 & 0.0 & 19.907 & 0.0 & 0.0\\\\0.0 & 0.0 & 0.0 & 0.0 & 0.0 & \\cdots & 0.300 & 0.0 & 0.0 & 26.950 & 0.0\\\\0.0 & 0.0 & 0.0 & 0.0 & 0.0 & \\cdots & 0.0 & 0.0 & 0.0 & 0.0 & 33.963\\\\\\end{array}\\right)\\end{equation*}"
      ],
      "text/plain": [
       "Quantum object: dims = [[4, 4], [4, 4]], shape = (16, 16), type = oper, isherm = True\n",
       "Qobj data =\n",
       "[[0.00000000e+00 0.00000000e+00 0.00000000e+00 0.00000000e+00\n",
       "  0.00000000e+00 0.00000000e+00 0.00000000e+00 0.00000000e+00\n",
       "  0.00000000e+00 0.00000000e+00 0.00000000e+00 0.00000000e+00\n",
       "  0.00000000e+00 0.00000000e+00 0.00000000e+00 0.00000000e+00]\n",
       " [0.00000000e+00 7.07300000e+00 0.00000000e+00 0.00000000e+00\n",
       "  1.00000000e-01 0.00000000e+00 0.00000000e+00 0.00000000e+00\n",
       "  4.94974747e-02 1.41421356e-02 0.00000000e+00 0.00000000e+00\n",
       "  0.00000000e+00 0.00000000e+00 0.00000000e+00 0.00000000e+00]\n",
       " [0.00000000e+00 0.00000000e+00 1.41160000e+01 0.00000000e+00\n",
       "  0.00000000e+00 1.41421356e-01 0.00000000e+00 0.00000000e+00\n",
       "  0.00000000e+00 7.00000000e-02 2.82842712e-02 0.00000000e+00\n",
       "  0.00000000e+00 0.00000000e+00 0.00000000e+00 0.00000000e+00]\n",
       " [0.00000000e+00 0.00000000e+00 0.00000000e+00 2.11290000e+01\n",
       "  0.00000000e+00 0.00000000e+00 1.73205081e-01 0.00000000e+00\n",
       "  0.00000000e+00 0.00000000e+00 8.57321410e-02 4.24264069e-02\n",
       "  0.00000000e+00 0.00000000e+00 0.00000000e+00 0.00000000e+00]\n",
       " [0.00000000e+00 1.00000000e-01 0.00000000e+00 0.00000000e+00\n",
       "  4.28400000e+00 0.00000000e+00 0.00000000e+00 0.00000000e+00\n",
       "  0.00000000e+00 0.00000000e+00 0.00000000e+00 0.00000000e+00\n",
       "  0.00000000e+00 0.00000000e+00 0.00000000e+00 0.00000000e+00]\n",
       " [0.00000000e+00 0.00000000e+00 1.41421356e-01 0.00000000e+00\n",
       "  0.00000000e+00 1.13570000e+01 0.00000000e+00 0.00000000e+00\n",
       "  1.41421356e-01 0.00000000e+00 0.00000000e+00 0.00000000e+00\n",
       "  8.57321410e-02 2.44948974e-02 0.00000000e+00 0.00000000e+00]\n",
       " [0.00000000e+00 0.00000000e+00 0.00000000e+00 1.73205081e-01\n",
       "  0.00000000e+00 0.00000000e+00 1.84000000e+01 0.00000000e+00\n",
       "  0.00000000e+00 2.00000000e-01 0.00000000e+00 0.00000000e+00\n",
       "  0.00000000e+00 1.21243557e-01 4.89897949e-02 0.00000000e+00]\n",
       " [0.00000000e+00 0.00000000e+00 0.00000000e+00 0.00000000e+00\n",
       "  0.00000000e+00 0.00000000e+00 0.00000000e+00 2.54130000e+01\n",
       "  0.00000000e+00 0.00000000e+00 2.44948974e-01 0.00000000e+00\n",
       "  0.00000000e+00 0.00000000e+00 1.48492424e-01 7.34846923e-02]\n",
       " [0.00000000e+00 4.94974747e-02 0.00000000e+00 0.00000000e+00\n",
       "  0.00000000e+00 1.41421356e-01 0.00000000e+00 0.00000000e+00\n",
       "  8.56200000e+00 0.00000000e+00 0.00000000e+00 0.00000000e+00\n",
       "  0.00000000e+00 0.00000000e+00 0.00000000e+00 0.00000000e+00]\n",
       " [0.00000000e+00 1.41421356e-02 7.00000000e-02 0.00000000e+00\n",
       "  0.00000000e+00 0.00000000e+00 2.00000000e-01 0.00000000e+00\n",
       "  0.00000000e+00 1.56350000e+01 0.00000000e+00 0.00000000e+00\n",
       "  1.73205081e-01 0.00000000e+00 0.00000000e+00 0.00000000e+00]\n",
       " [0.00000000e+00 0.00000000e+00 2.82842712e-02 8.57321410e-02\n",
       "  0.00000000e+00 0.00000000e+00 0.00000000e+00 2.44948974e-01\n",
       "  0.00000000e+00 0.00000000e+00 2.26780000e+01 0.00000000e+00\n",
       "  0.00000000e+00 2.44948974e-01 0.00000000e+00 0.00000000e+00]\n",
       " [0.00000000e+00 0.00000000e+00 0.00000000e+00 4.24264069e-02\n",
       "  0.00000000e+00 0.00000000e+00 0.00000000e+00 0.00000000e+00\n",
       "  0.00000000e+00 0.00000000e+00 0.00000000e+00 2.96910000e+01\n",
       "  0.00000000e+00 0.00000000e+00 3.00000000e-01 0.00000000e+00]\n",
       " [0.00000000e+00 0.00000000e+00 0.00000000e+00 0.00000000e+00\n",
       "  0.00000000e+00 8.57321410e-02 0.00000000e+00 0.00000000e+00\n",
       "  0.00000000e+00 1.73205081e-01 0.00000000e+00 0.00000000e+00\n",
       "  1.28340000e+01 0.00000000e+00 0.00000000e+00 0.00000000e+00]\n",
       " [0.00000000e+00 0.00000000e+00 0.00000000e+00 0.00000000e+00\n",
       "  0.00000000e+00 2.44948974e-02 1.21243557e-01 0.00000000e+00\n",
       "  0.00000000e+00 0.00000000e+00 2.44948974e-01 0.00000000e+00\n",
       "  0.00000000e+00 1.99070000e+01 0.00000000e+00 0.00000000e+00]\n",
       " [0.00000000e+00 0.00000000e+00 0.00000000e+00 0.00000000e+00\n",
       "  0.00000000e+00 0.00000000e+00 4.89897949e-02 1.48492424e-01\n",
       "  0.00000000e+00 0.00000000e+00 0.00000000e+00 3.00000000e-01\n",
       "  0.00000000e+00 0.00000000e+00 2.69500000e+01 0.00000000e+00]\n",
       " [0.00000000e+00 0.00000000e+00 0.00000000e+00 0.00000000e+00\n",
       "  0.00000000e+00 0.00000000e+00 0.00000000e+00 7.34846923e-02\n",
       "  0.00000000e+00 0.00000000e+00 0.00000000e+00 0.00000000e+00\n",
       "  0.00000000e+00 0.00000000e+00 0.00000000e+00 3.39630000e+01]]"
      ]
     },
     "execution_count": 6,
     "metadata": {},
     "output_type": "execute_result"
    }
   ],
   "source": [
    "dressed_hamiltonian = hilbertspace.hamiltonian()\n",
    "dressed_hamiltonian"
   ]
  },
  {
   "cell_type": "markdown",
   "metadata": {},
   "source": [
    "Since the composite Hamiltonian is a `qutip.Qobj`, The eigenvalues and eigenvectors can be now be obtained via the usual QuTiP routine:"
   ]
  },
  {
   "cell_type": "code",
   "execution_count": 7,
   "metadata": {
    "ExecuteTime": {
     "end_time": "2020-03-31T11:44:06.327709Z",
     "start_time": "2020-03-31T11:44:06.314743Z"
    }
   },
   "outputs": [
    {
     "name": "stdout",
     "output_type": "stream",
     "text": [
      "[0.         4.28041833 7.07490698 8.55649874]\n"
     ]
    }
   ],
   "source": [
    "evals, evecs = dressed_hamiltonian.eigenstates(eigvals=4)\n",
    "print(evals)"
   ]
  },
  {
   "cell_type": "markdown",
   "metadata": {},
   "source": [
    "### GUI use for `HilbertSpace` object creation\n",
    "\n",
    "As an alternative to the programmatic generation of a new `HilbertSpace` object, the following GUI-based creation process is supported:"
   ]
  },
  {
   "cell_type": "code",
   "execution_count": 8,
   "metadata": {},
   "outputs": [
    {
     "data": {
      "application/vnd.jupyter.widget-view+json": {
       "model_id": "d4c04124bfbf462faa2bbf19bebb0d32",
       "version_major": 2,
       "version_minor": 0
      },
      "text/plain": [
       "VBox(children=(HBox(children=(VBox(children=(HBox(children=(Label(value='Select subsystems (Ctrl-Click)'), But…"
      ]
     },
     "metadata": {},
     "output_type": "display_data"
    },
    {
     "data": {
      "application/vnd.jupyter.widget-view+json": {
       "model_id": "2a1675a4c99143b0bc229a546d5e86d5",
       "version_major": 2,
       "version_minor": 0
      },
      "text/plain": [
       "Output()"
      ]
     },
     "metadata": {},
     "output_type": "display_data"
    }
   ],
   "source": [
    "hilbertspace_new = scq.HilbertSpace.create()"
   ]
  },
  {
   "cell_type": "markdown",
   "metadata": {},
   "source": [
    "### Spectrum lookup and converting between bare and dressed indices\n",
    "\n",
    "To use lookup functions for state indices, energies and states, first generate the lookup table via:"
   ]
  },
  {
   "cell_type": "code",
   "execution_count": 9,
   "metadata": {
    "ExecuteTime": {
     "end_time": "2020-03-31T11:44:10.103117Z",
     "start_time": "2020-03-31T11:44:10.030938Z"
    }
   },
   "outputs": [],
   "source": [
    "hilbertspace.generate_lookup()"
   ]
  },
  {
   "cell_type": "markdown",
   "metadata": {},
   "source": [
    "Here are the bare energies of the first Kerr oscillator:"
   ]
  },
  {
   "cell_type": "code",
   "execution_count": 10,
   "metadata": {
    "ExecuteTime": {
     "end_time": "2020-03-31T11:44:13.722890Z",
     "start_time": "2020-03-31T11:44:13.715941Z"
    }
   },
   "outputs": [
    {
     "data": {
      "text/plain": [
       "array([ 0.   ,  4.284,  8.562, 12.834])"
      ]
     },
     "execution_count": 10,
     "metadata": {},
     "output_type": "execute_result"
    }
   ],
   "source": [
    "hilbertspace.lookup.bare_eigenenergies(osc1)"
   ]
  },
  {
   "cell_type": "markdown",
   "metadata": {},
   "source": [
    "The dressed state with index j=8 corresponds to following bare product state:"
   ]
  },
  {
   "cell_type": "code",
   "execution_count": 11,
   "metadata": {
    "ExecuteTime": {
     "end_time": "2020-03-31T11:44:16.331869Z",
     "start_time": "2020-03-31T11:44:16.324918Z"
    }
   },
   "outputs": [
    {
     "data": {
      "text/plain": [
       "(1, 2)"
      ]
     },
     "execution_count": 11,
     "metadata": {},
     "output_type": "execute_result"
    }
   ],
   "source": [
    "hilbertspace.lookup.bare_index(8)"
   ]
  },
  {
   "cell_type": "markdown",
   "metadata": {},
   "source": [
    "And the bare product state (2,1) most closely matches the following dressed state:"
   ]
  },
  {
   "cell_type": "code",
   "execution_count": 12,
   "metadata": {
    "ExecuteTime": {
     "end_time": "2020-03-31T11:44:19.844481Z",
     "start_time": "2020-03-31T11:44:19.837499Z"
    }
   },
   "outputs": [
    {
     "data": {
      "text/plain": [
       "7"
      ]
     },
     "execution_count": 12,
     "metadata": {},
     "output_type": "execute_result"
    }
   ],
   "source": [
    "hilbertspace.lookup.dressed_index((2,1))"
   ]
  },
  {
   "cell_type": "markdown",
   "metadata": {},
   "source": [
    "This is the eigenenergy for dressed index j=10:"
   ]
  },
  {
   "cell_type": "code",
   "execution_count": 13,
   "metadata": {
    "ExecuteTime": {
     "end_time": "2020-03-31T11:44:52.454767Z",
     "start_time": "2020-03-31T11:44:52.446792Z"
    }
   },
   "outputs": [
    {
     "data": {
      "text/plain": [
       "21.135009003451163"
      ]
     },
     "execution_count": 13,
     "metadata": {},
     "output_type": "execute_result"
    }
   ],
   "source": [
    "hilbertspace.lookup.energy_dressed_index(10)"
   ]
  },
  {
   "cell_type": "markdown",
   "metadata": {},
   "source": [
    "## Sweeping over an external parameter\n",
    "\n",
    "scqubits provides the class `ParameterSweep` to facilitate computation of spectra as function of an external parameter. See the example notebook for `ParameterSweep` to explore sweeps and visualizing sweep data."
   ]
  }
 ],
 "metadata": {
  "celltoolbar": "Initialisation Cell",
  "kernelspec": {
   "display_name": "Python 3",
   "language": "python",
   "name": "python3"
  },
  "language_info": {
   "codemirror_mode": {
    "name": "ipython",
    "version": 3
   },
   "file_extension": ".py",
   "mimetype": "text/x-python",
   "name": "python",
   "nbconvert_exporter": "python",
   "pygments_lexer": "ipython3",
   "version": "3.8.10"
  },
  "toc": {
   "base_numbering": 1,
   "nav_menu": {},
   "number_sections": false,
   "sideBar": true,
   "skip_h1_title": true,
   "title_cell": "Table of Contents",
   "title_sidebar": "Contents",
   "toc_cell": false,
   "toc_position": {},
   "toc_section_display": true,
   "toc_window_display": true
  },
  "varInspector": {
   "cols": {
    "lenName": 16,
    "lenType": 16,
    "lenVar": 40
   },
   "kernels_config": {
    "python": {
     "delete_cmd_postfix": "",
     "delete_cmd_prefix": "del ",
     "library": "var_list.py",
     "varRefreshCmd": "print(var_dic_list())"
    },
    "r": {
     "delete_cmd_postfix": ") ",
     "delete_cmd_prefix": "rm(",
     "library": "var_list.r",
     "varRefreshCmd": "cat(var_dic_list()) "
    }
   },
   "types_to_exclude": [
    "module",
    "function",
    "builtin_function_or_method",
    "instance",
    "_Feature"
   ],
   "window_display": false
  },
  "widgets": {
   "application/vnd.jupyter.widget-state+json": {
    "state": {},
    "version_major": 2,
    "version_minor": 0
   }
  }
 },
 "nbformat": 4,
 "nbformat_minor": 4
}
