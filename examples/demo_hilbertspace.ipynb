{
 "cells": [
  {
   "attachments": {},
   "cell_type": "markdown",
   "metadata": {},
   "source": [
    "# scqubits example: composite Hilbert spaces\n",
    "J. Koch and P. Groszkowski<br>\n",
    "E. Blackwell\n",
    "\n",
    "For further documentation of scqubits see https://scqubits.readthedocs.io/en/latest/.\n",
    "\n",
    "---"
   ]
  },
  {
   "cell_type": "code",
   "execution_count": 1,
   "metadata": {
    "ExecuteTime": {
     "end_time": "2020-03-31T11:43:53.057632Z",
     "start_time": "2020-03-31T11:43:53.000813Z"
    },
    "init_cell": true,
    "pycharm": {
     "is_executing": false
    },
    "scrolled": true
   },
   "outputs": [],
   "source": [
    "import scqubits as scq"
   ]
  },
  {
   "attachments": {},
   "cell_type": "markdown",
   "metadata": {},
   "source": [
    "# Working with composite Hilbert spaces and interfacing with QuTiP\n",
    "\n",
    "Systems of interest for quantum information processing will involve multiple qubits as well as oscillators with mutual coupling. The resulting Hilbert space is the tensor product of the individual constituent Hilbert spaces. The `HilbertSpace` class allows one to define such coupled systems, to define the interactions between them, and to contruct the overall Hamiltonian. From this, dressed eigenenergies and eigenstates can be extracted. The operator matrices and state vectors  at the `HilbertSpace` level are given as QuTiP `Qobj` instances. This interface to QuTiP is particularly helpful if the task at hand is the simulation of time-dependent dynamics of the coupled system, perhaps including additional drive terms."
   ]
  },
  {
   "attachments": {},
   "cell_type": "markdown",
   "metadata": {},
   "source": [
    "## Example: two ocilllator qubits coupled by an rf SQUID\n",
    "\n",
    "As an interesting example of a coupled quantum system consider two harmonic modes coupled by an rf SQUID. The effective Hamiltonian describing this composite system, after integrating out the SQUID degrees of freedom,  is given by [https://www.nature.com/articles/s41567-019-0703-5]\n",
    "\n",
    "$\\displaystyle H/\\hbar = \\omega_a a^\\dagger a + \\omega_b b^\\dagger b + g(a^\\dagger b + a b^\\dagger) + g_2(a^\\dagger a^\\dagger b + a a b^\\dagger) + \\chi_{ab} a^\\dagger ab^\\dagger b + \\frac{\\chi_{aa}}{2} a^\\dagger a^\\dagger a a + \\frac{\\chi_{bb}}{2} b^\\dagger b^\\dagger b b$,\n",
    "\n",
    "which can be rewritten as\n",
    "\n",
    "$\\displaystyle H = E_{\\text{osc}_a} a^\\dagger a + E_{\\text{osc}_b} b^\\dagger b + g(a^\\dagger b + a b^\\dagger) + g_2(a^\\dagger a^\\dagger b + a a b^\\dagger) + \\chi_{ab} a^\\dagger ab^\\dagger b - K_a a^\\dagger a^\\dagger a a - K_b b^\\dagger b^\\dagger b b$.\n",
    "\n",
    "### Define Hilbert space components, initialize `HilbertSpace` object\n",
    "\n",
    "To set up the Hilbert space, we define the separate components as Kerr oscillators and initialize a `HilbertSpace` object by submitting the list of all subsystems:"
   ]
  },
  {
   "cell_type": "code",
   "execution_count": 2,
   "metadata": {
    "ExecuteTime": {
     "end_time": "2020-03-31T11:43:54.037807Z",
     "start_time": "2020-03-31T11:43:54.024841Z"
    },
    "pycharm": {
     "name": "#%%\n"
    }
   },
   "outputs": [],
   "source": [
    "# Set up the components / subspaces of our Hilbert space\n",
    "E_osc_a = 4.284\n",
    "K_a = 0.003\n",
    "\n",
    "E_osc_b = 7.073\n",
    "K_b = 0.015\n",
    "\n",
    "osc1 = scq.KerrOscillator(\n",
    "    E_osc = E_osc_a,\n",
    "    K = K_a,\n",
    "    truncated_dim = 4,\n",
    ")\n",
    "\n",
    "osc2 = scq.KerrOscillator(\n",
    "    E_osc = E_osc_b,\n",
    "    K = K_b,\n",
    "    truncated_dim = 4,\n",
    ")\n",
    "\n",
    "# Form a list of all components making up the Hilbert space.\n",
    "hilbertspace = scq.HilbertSpace([osc1, osc2])"
   ]
  },
  {
   "cell_type": "code",
   "execution_count": 3,
   "metadata": {
    "ExecuteTime": {
     "end_time": "2020-03-31T11:43:54.772581Z",
     "start_time": "2020-03-31T11:43:54.765597Z"
    }
   },
   "outputs": [
    {
     "name": "stdout",
     "output_type": "stream",
     "text": [
      "HilbertSpace:  subsystems\n",
      "-------------------------\n",
      "\n",
      "KerrOscillator------| [KerrOscillator_1]\n",
      "                    | E_osc: 4.284\n",
      "                    | K: 0.003\n",
      "                    | l_osc: None\n",
      "                    | truncated_dim: 4\n",
      "                    |\n",
      "                    | dim: 4\n",
      "\n",
      "\n",
      "KerrOscillator------| [KerrOscillator_2]\n",
      "                    | E_osc: 7.073\n",
      "                    | K: 0.015\n",
      "                    | l_osc: None\n",
      "                    | truncated_dim: 4\n",
      "                    |\n",
      "                    | dim: 4\n",
      "\n",
      "\n"
     ]
    }
   ],
   "source": [
    "print(hilbertspace)"
   ]
  },
  {
   "attachments": {},
   "cell_type": "markdown",
   "metadata": {
    "pycharm": {
     "name": "#%% md\n"
    }
   },
   "source": [
    "While we yet have to set up the interactions between the components, we can already obtain the bare Hamiltonian of the non-interacting subsystems, expressed as a matrix in the joint Hilbert space:"
   ]
  },
  {
   "cell_type": "code",
   "execution_count": 4,
   "metadata": {
    "ExecuteTime": {
     "end_time": "2020-03-31T11:43:56.149663Z",
     "start_time": "2020-03-31T11:43:56.110801Z"
    },
    "pycharm": {
     "name": "#%%\n"
    }
   },
   "outputs": [
    {
     "data": {
      "text/latex": [
       "Quantum object: dims = [[4, 4], [4, 4]], shape = (16, 16), type = oper, isherm = True $ \\\\ \\left(\\begin{matrix}0.0 & 0.0 & 0.0 & 0.0 & 0.0 & \\cdots & 0.0 & 0.0 & 0.0 & 0.0 & 0.0\\\\0.0 & 7.073 & 0.0 & 0.0 & 0.0 & \\cdots & 0.0 & 0.0 & 0.0 & 0.0 & 0.0\\\\0.0 & 0.0 & 14.116 & 0.0 & 0.0 & \\cdots & 0.0 & 0.0 & 0.0 & 0.0 & 0.0\\\\0.0 & 0.0 & 0.0 & 21.129 & 0.0 & \\cdots & 0.0 & 0.0 & 0.0 & 0.0 & 0.0\\\\0.0 & 0.0 & 0.0 & 0.0 & 4.284 & \\cdots & 0.0 & 0.0 & 0.0 & 0.0 & 0.0\\\\\\vdots & \\vdots & \\vdots & \\vdots & \\vdots & \\ddots & \\vdots & \\vdots & \\vdots & \\vdots & \\vdots\\\\0.0 & 0.0 & 0.0 & 0.0 & 0.0 & \\cdots & 29.691 & 0.0 & 0.0 & 0.0 & 0.0\\\\0.0 & 0.0 & 0.0 & 0.0 & 0.0 & \\cdots & 0.0 & 12.834 & 0.0 & 0.0 & 0.0\\\\0.0 & 0.0 & 0.0 & 0.0 & 0.0 & \\cdots & 0.0 & 0.0 & 19.907 & 0.0 & 0.0\\\\0.0 & 0.0 & 0.0 & 0.0 & 0.0 & \\cdots & 0.0 & 0.0 & 0.0 & 26.950 & 0.0\\\\0.0 & 0.0 & 0.0 & 0.0 & 0.0 & \\cdots & 0.0 & 0.0 & 0.0 & 0.0 & 33.963\\\\\\end{matrix}\\right)$"
      ],
      "text/plain": [
       "Quantum object: dims = [[4, 4], [4, 4]], shape = (16, 16), type = oper, isherm = True\n",
       "Qobj data =\n",
       "[[ 0.     0.     0.     0.     0.     0.     0.     0.     0.     0.\n",
       "   0.     0.     0.     0.     0.     0.   ]\n",
       " [ 0.     7.073  0.     0.     0.     0.     0.     0.     0.     0.\n",
       "   0.     0.     0.     0.     0.     0.   ]\n",
       " [ 0.     0.    14.116  0.     0.     0.     0.     0.     0.     0.\n",
       "   0.     0.     0.     0.     0.     0.   ]\n",
       " [ 0.     0.     0.    21.129  0.     0.     0.     0.     0.     0.\n",
       "   0.     0.     0.     0.     0.     0.   ]\n",
       " [ 0.     0.     0.     0.     4.284  0.     0.     0.     0.     0.\n",
       "   0.     0.     0.     0.     0.     0.   ]\n",
       " [ 0.     0.     0.     0.     0.    11.357  0.     0.     0.     0.\n",
       "   0.     0.     0.     0.     0.     0.   ]\n",
       " [ 0.     0.     0.     0.     0.     0.    18.4    0.     0.     0.\n",
       "   0.     0.     0.     0.     0.     0.   ]\n",
       " [ 0.     0.     0.     0.     0.     0.     0.    25.413  0.     0.\n",
       "   0.     0.     0.     0.     0.     0.   ]\n",
       " [ 0.     0.     0.     0.     0.     0.     0.     0.     8.562  0.\n",
       "   0.     0.     0.     0.     0.     0.   ]\n",
       " [ 0.     0.     0.     0.     0.     0.     0.     0.     0.    15.635\n",
       "   0.     0.     0.     0.     0.     0.   ]\n",
       " [ 0.     0.     0.     0.     0.     0.     0.     0.     0.     0.\n",
       "  22.678  0.     0.     0.     0.     0.   ]\n",
       " [ 0.     0.     0.     0.     0.     0.     0.     0.     0.     0.\n",
       "   0.    29.691  0.     0.     0.     0.   ]\n",
       " [ 0.     0.     0.     0.     0.     0.     0.     0.     0.     0.\n",
       "   0.     0.    12.834  0.     0.     0.   ]\n",
       " [ 0.     0.     0.     0.     0.     0.     0.     0.     0.     0.\n",
       "   0.     0.     0.    19.907  0.     0.   ]\n",
       " [ 0.     0.     0.     0.     0.     0.     0.     0.     0.     0.\n",
       "   0.     0.     0.     0.    26.95   0.   ]\n",
       " [ 0.     0.     0.     0.     0.     0.     0.     0.     0.     0.\n",
       "   0.     0.     0.     0.     0.    33.963]]"
      ]
     },
     "execution_count": 4,
     "metadata": {},
     "output_type": "execute_result"
    }
   ],
   "source": [
    "bare_hamiltonian = hilbertspace.bare_hamiltonian()\n",
    "bare_hamiltonian"
   ]
  },
  {
   "attachments": {},
   "cell_type": "markdown",
   "metadata": {},
   "source": [
    "As we have not added any interactions yet, there is no difference between the methods `bare_hamiltonian()` and `hamiltonian()` at the moment:"
   ]
  },
  {
   "cell_type": "code",
   "execution_count": 5,
   "metadata": {},
   "outputs": [
    {
     "data": {
      "text/plain": [
       "True"
      ]
     },
     "execution_count": 5,
     "metadata": {},
     "output_type": "execute_result"
    }
   ],
   "source": [
    "bare_hamiltonian == hilbertspace.hamiltonian()"
   ]
  },
  {
   "attachments": {},
   "cell_type": "markdown",
   "metadata": {
    "pycharm": {
     "name": "#%% md\n"
    }
   },
   "source": [
    "The Hamiltonian matrix is given in the form of a QuTiP quantum object.\n",
    "This facilitates simple incorporation of Hamiltonians generated with `scqubits` into any of the solvers QuTiP offers for time evolution."
   ]
  },
  {
   "attachments": {},
   "cell_type": "markdown",
   "metadata": {
    "pycharm": {
     "name": "#%% md\n"
    }
   },
   "source": [
    "### Set up interaction terms between individual subsystems\n",
    "\n",
    "Interactions are added using the `add_interaction()` method. If the interaction is of the form $g \\cdot \\text{op1} \\cdot \\text{op2}$, it can be added by specifying the coefficient $g$ and the two operators $\\text{op1}$ and $\\text{op2}$. Otherwise, the interaction is given as a Python string that is later evaluated."
   ]
  },
  {
   "attachments": {},
   "cell_type": "markdown",
   "metadata": {},
   "source": [
    "1. $g(a^\\dagger b + a b^\\dagger)$\n",
    "2. $g_2(a^\\dagger a^\\dagger b + a a b^\\dagger)$\n",
    "3. $\\chi_{ab} a^\\dagger ab^\\dagger b$"
   ]
  },
  {
   "cell_type": "code",
   "execution_count": 6,
   "metadata": {
    "ExecuteTime": {
     "end_time": "2020-03-31T11:44:00.099411Z",
     "start_time": "2020-03-31T11:44:00.092429Z"
    },
    "pycharm": {
     "name": "#%%\n"
    }
   },
   "outputs": [],
   "source": [
    "# Option A: operator product specification via callables\n",
    "# Term 1\n",
    "g = 0.1\n",
    "\n",
    "hilbertspace.add_interaction(\n",
    "    g_strength = g,\n",
    "    op1 = osc1.creation_operator,\n",
    "    op2 = osc2.annihilation_operator,\n",
    "    add_hc = True\n",
    ")\n",
    "\n",
    "# Option B: string-based specification of interaction term\n",
    "# Term 2\n",
    "g2 = 0.035 \n",
    "\n",
    "hilbertspace.add_interaction(\n",
    "    expr = \"g2 * a.dag() * a.dag() * b\",\n",
    "    op1 = (\"a\", osc1.annihilation_operator),\n",
    "    op2 = (\"b\", osc2.annihilation_operator),\n",
    "    add_hc = True\n",
    ")\n",
    "\n",
    "# Term 3\n",
    "chi_ab = 0.01\n",
    "\n",
    "hilbertspace.add_interaction(\n",
    "    expr = \"chi_ab * a.dag() * a * b.dag() * b\",\n",
    "    op1 = (\"a\", osc1.annihilation_operator),\n",
    "    op2 = (\"b\", osc2.annihilation_operator),\n",
    "    add_hc = False\n",
    ")"
   ]
  },
  {
   "attachments": {},
   "cell_type": "markdown",
   "metadata": {
    "pycharm": {
     "name": "#%% md\n"
    }
   },
   "source": [
    "Now that the interactions are specified, the full Hamiltonian of the coupled system can be obtained with `hamiltonian()`:"
   ]
  },
  {
   "cell_type": "code",
   "execution_count": 7,
   "metadata": {
    "ExecuteTime": {
     "end_time": "2020-03-31T11:44:03.627440Z",
     "start_time": "2020-03-31T11:44:03.599501Z"
    },
    "pycharm": {
     "name": "#%%\n"
    }
   },
   "outputs": [
    {
     "data": {
      "text/latex": [
       "Quantum object: dims = [[4, 4], [4, 4]], shape = (16, 16), type = oper, isherm = True $ \\\\ \\left(\\begin{matrix}0.0 & 0.0 & 0.0 & 0.0 & 0.0 & \\cdots & 0.0 & 0.0 & 0.0 & 0.0 & 0.0\\\\0.0 & 7.073 & 0.0 & 0.0 & 0.100 & \\cdots & 0.0 & 0.0 & 0.0 & 0.0 & 0.0\\\\0.0 & 0.0 & 14.116 & 0.0 & 0.0 & \\cdots & 0.0 & 0.0 & 0.0 & 0.0 & 0.0\\\\0.0 & 0.0 & 0.0 & 21.129 & 0.0 & \\cdots & 0.0 & 0.0 & 0.0 & 0.0 & 0.0\\\\0.0 & 0.100 & 0.0 & 0.0 & 4.284 & \\cdots & 0.0 & 0.0 & 0.0 & 0.0 & 0.0\\\\\\vdots & \\vdots & \\vdots & \\vdots & \\vdots & \\ddots & \\vdots & \\vdots & \\vdots & \\vdots & \\vdots\\\\0.0 & 0.0 & 0.0 & 0.0 & 0.0 & \\cdots & 29.751 & 0.0 & 0.0 & 0.300 & 0.0\\\\0.0 & 0.0 & 0.0 & 0.0 & 0.0 & \\cdots & 0.0 & 12.834 & 0.0 & 0.0 & 0.0\\\\0.0 & 0.0 & 0.0 & 0.0 & 0.0 & \\cdots & 0.0 & 0.0 & 19.937 & 0.0 & 0.0\\\\0.0 & 0.0 & 0.0 & 0.0 & 0.0 & \\cdots & 0.300 & 0.0 & 0.0 & 27.010 & 0.0\\\\0.0 & 0.0 & 0.0 & 0.0 & 0.0 & \\cdots & 0.0 & 0.0 & 0.0 & 0.0 & 34.053\\\\\\end{matrix}\\right)$"
      ],
      "text/plain": [
       "Quantum object: dims = [[4, 4], [4, 4]], shape = (16, 16), type = oper, isherm = True\n",
       "Qobj data =\n",
       "[[ 0.          0.          0.          0.          0.          0.\n",
       "   0.          0.          0.          0.          0.          0.\n",
       "   0.          0.          0.          0.        ]\n",
       " [ 0.          7.073       0.          0.          0.1         0.\n",
       "   0.          0.          0.04949747  0.          0.          0.\n",
       "   0.          0.          0.          0.        ]\n",
       " [ 0.          0.         14.116       0.          0.          0.14142136\n",
       "   0.          0.          0.          0.07        0.          0.\n",
       "   0.          0.          0.          0.        ]\n",
       " [ 0.          0.          0.         21.129       0.          0.\n",
       "   0.17320508  0.          0.          0.          0.08573214  0.\n",
       "   0.          0.          0.          0.        ]\n",
       " [ 0.          0.1         0.          0.          4.284       0.\n",
       "   0.          0.          0.          0.          0.          0.\n",
       "   0.          0.          0.          0.        ]\n",
       " [ 0.          0.          0.14142136  0.          0.         11.367\n",
       "   0.          0.          0.14142136  0.          0.          0.\n",
       "   0.08573214  0.          0.          0.        ]\n",
       " [ 0.          0.          0.          0.17320508  0.          0.\n",
       "  18.42        0.          0.          0.2         0.          0.\n",
       "   0.          0.12124356  0.          0.        ]\n",
       " [ 0.          0.          0.          0.          0.          0.\n",
       "   0.         25.443       0.          0.          0.24494897  0.\n",
       "   0.          0.          0.14849242  0.        ]\n",
       " [ 0.          0.04949747  0.          0.          0.          0.14142136\n",
       "   0.          0.          8.562       0.          0.          0.\n",
       "   0.          0.          0.          0.        ]\n",
       " [ 0.          0.          0.07        0.          0.          0.\n",
       "   0.2         0.          0.         15.655       0.          0.\n",
       "   0.17320508  0.          0.          0.        ]\n",
       " [ 0.          0.          0.          0.08573214  0.          0.\n",
       "   0.          0.24494897  0.          0.         22.718       0.\n",
       "   0.          0.24494897  0.          0.        ]\n",
       " [ 0.          0.          0.          0.          0.          0.\n",
       "   0.          0.          0.          0.          0.         29.751\n",
       "   0.          0.          0.3         0.        ]\n",
       " [ 0.          0.          0.          0.          0.          0.08573214\n",
       "   0.          0.          0.          0.17320508  0.          0.\n",
       "  12.834       0.          0.          0.        ]\n",
       " [ 0.          0.          0.          0.          0.          0.\n",
       "   0.12124356  0.          0.          0.          0.24494897  0.\n",
       "   0.         19.937       0.          0.        ]\n",
       " [ 0.          0.          0.          0.          0.          0.\n",
       "   0.          0.14849242  0.          0.          0.          0.3\n",
       "   0.          0.         27.01        0.        ]\n",
       " [ 0.          0.          0.          0.          0.          0.\n",
       "   0.          0.          0.          0.          0.          0.\n",
       "   0.          0.          0.         34.053     ]]"
      ]
     },
     "execution_count": 7,
     "metadata": {},
     "output_type": "execute_result"
    }
   ],
   "source": [
    "dressed_hamiltonian = hilbertspace.hamiltonian()\n",
    "dressed_hamiltonian"
   ]
  },
  {
   "attachments": {},
   "cell_type": "markdown",
   "metadata": {},
   "source": [
    "Since the composite Hamiltonian is a `qutip.Qobj`, the eigenvalues and eigenvectors can be now be obtained via the usual QuTiP routine:"
   ]
  },
  {
   "cell_type": "code",
   "execution_count": 8,
   "metadata": {
    "ExecuteTime": {
     "end_time": "2020-03-31T11:44:06.327709Z",
     "start_time": "2020-03-31T11:44:06.314743Z"
    }
   },
   "outputs": [
    {
     "name": "stdout",
     "output_type": "stream",
     "text": [
      "[0.         4.28041835 7.07493032 8.55652435]\n"
     ]
    }
   ],
   "source": [
    "evals, evecs = dressed_hamiltonian.eigenstates(eigvals=4)\n",
    "print(evals)"
   ]
  },
  {
   "attachments": {},
   "cell_type": "markdown",
   "metadata": {},
   "source": [
    "### GUI use for `HilbertSpace` object creation\n",
    "\n",
    "As an alternative to the programmatic generation of a new `HilbertSpace` object, the following GUI-based creation process is supported:"
   ]
  },
  {
   "cell_type": "code",
   "execution_count": 9,
   "metadata": {},
   "outputs": [
    {
     "name": "stderr",
     "output_type": "stream",
     "text": [
      "Warning: Starting with v3.2, scqubits uses the optional package 'ipyuetify' for graphical user interfaces. To use this functionality, add the package via `conda install -c conda-forge ipyvuetify` or `pip install ipyvuetify`.\n",
      "For use with jupyter lab, additionally execute `jupyter labextension install jupyter-vuetify`.\n",
      "\n",
      " C:\\Users\\hp\\AppData\\Roaming\\Python\\Python311\\site-packages\\scqubits\\utils\\misc.py: 145"
     ]
    }
   ],
   "source": [
    "hilbertspace_gui = scq.HilbertSpace.create()"
   ]
  },
  {
   "cell_type": "code",
   "execution_count": 10,
   "metadata": {},
   "outputs": [
    {
     "name": "stdout",
     "output_type": "stream",
     "text": [
      "HilbertSpace:  subsystems\n",
      "-------------------------\n",
      "\n"
     ]
    }
   ],
   "source": [
    "print(hilbertspace_gui)"
   ]
  },
  {
   "cell_type": "code",
   "execution_count": 11,
   "metadata": {},
   "outputs": [
    {
     "data": {
      "text/latex": [
       "Quantum object: dims = [[1], [1]], shape = (1, 1), type = bra $ \\\\ \\left(\\begin{matrix}0.0\\\\\\end{matrix}\\right)$"
      ],
      "text/plain": [
       "Quantum object: dims = [[1], [1]], shape = (1, 1), type = bra\n",
       "Qobj data =\n",
       "[[0.]]"
      ]
     },
     "execution_count": 11,
     "metadata": {},
     "output_type": "execute_result"
    }
   ],
   "source": [
    "hilbertspace_gui.hamiltonian()"
   ]
  },
  {
   "attachments": {},
   "cell_type": "markdown",
   "metadata": {},
   "source": [
    "We can see that it indeed corresponds to the Hamiltonian created programatically:"
   ]
  },
  {
   "cell_type": "code",
   "execution_count": 12,
   "metadata": {},
   "outputs": [
    {
     "data": {
      "text/plain": [
       "False"
      ]
     },
     "execution_count": 12,
     "metadata": {},
     "output_type": "execute_result"
    }
   ],
   "source": [
    "hilbertspace_gui.hamiltonian() == dressed_hamiltonian"
   ]
  },
  {
   "attachments": {},
   "cell_type": "markdown",
   "metadata": {},
   "source": [
    "### Spectrum lookup and converting between bare and dressed indices\n",
    "\n",
    "In the dispersive regime where bare states don't hybridize too much, it may be useful to convert between dressed states and their closest product bare states as physical interpretation may be easier. To use lookup functions for state indices, energies and states, first generate the lookup table via `generate_lookup()`:"
   ]
  },
  {
   "cell_type": "code",
   "execution_count": 13,
   "metadata": {
    "ExecuteTime": {
     "end_time": "2020-03-31T11:44:10.103117Z",
     "start_time": "2020-03-31T11:44:10.030938Z"
    }
   },
   "outputs": [],
   "source": [
    "hilbertspace.generate_lookup()"
   ]
  },
  {
   "attachments": {},
   "cell_type": "markdown",
   "metadata": {},
   "source": [
    "We can first print the bare energies of the two Kerr oscillators:"
   ]
  },
  {
   "cell_type": "code",
   "execution_count": 14,
   "metadata": {
    "ExecuteTime": {
     "end_time": "2020-03-31T11:44:13.722890Z",
     "start_time": "2020-03-31T11:44:13.715941Z"
    }
   },
   "outputs": [
    {
     "name": "stdout",
     "output_type": "stream",
     "text": [
      "[ 0.     4.284  8.562 12.834]\n",
      "[ 0.     7.073 14.116 21.129]\n"
     ]
    }
   ],
   "source": [
    "print(hilbertspace.bare_eigenvals(osc1))\n",
    "print(hilbertspace.bare_eigenvals(osc2))"
   ]
  },
  {
   "attachments": {},
   "cell_type": "markdown",
   "metadata": {},
   "source": [
    "Next, we can lookup the closest bare product state to the dressed state with index `8` with `bare_index()`, which corresponds to 1 excitation in the first Kerr oscillator and 2 excitations in the second."
   ]
  },
  {
   "cell_type": "code",
   "execution_count": 15,
   "metadata": {
    "ExecuteTime": {
     "end_time": "2020-03-31T11:44:16.331869Z",
     "start_time": "2020-03-31T11:44:16.324918Z"
    }
   },
   "outputs": [
    {
     "data": {
      "text/plain": [
       "(1, 2)"
      ]
     },
     "execution_count": 15,
     "metadata": {},
     "output_type": "execute_result"
    }
   ],
   "source": [
    "hilbertspace.bare_index(8)"
   ]
  },
  {
   "attachments": {},
   "cell_type": "markdown",
   "metadata": {},
   "source": [
    "Conversely, we can verify that the bare product state (1,2) most closely matches the dressed state with index `8`"
   ]
  },
  {
   "cell_type": "code",
   "execution_count": 16,
   "metadata": {
    "ExecuteTime": {
     "end_time": "2020-03-31T11:44:19.844481Z",
     "start_time": "2020-03-31T11:44:19.837499Z"
    }
   },
   "outputs": [
    {
     "data": {
      "text/plain": [
       "8"
      ]
     },
     "execution_count": 16,
     "metadata": {},
     "output_type": "execute_result"
    }
   ],
   "source": [
    "hilbertspace.dressed_index((1,2))"
   ]
  },
  {
   "attachments": {},
   "cell_type": "markdown",
   "metadata": {},
   "source": [
    "Finally, we can get the eigenenergy for dressed index `8` using `energy_by_dressed_index()`:"
   ]
  },
  {
   "cell_type": "code",
   "execution_count": 17,
   "metadata": {
    "ExecuteTime": {
     "end_time": "2020-03-31T11:44:52.454767Z",
     "start_time": "2020-03-31T11:44:52.446792Z"
    }
   },
   "outputs": [
    {
     "data": {
      "text/plain": [
       "18.413688985491913"
      ]
     },
     "execution_count": 17,
     "metadata": {},
     "output_type": "execute_result"
    }
   ],
   "source": [
    "hilbertspace.energy_by_dressed_index(8)"
   ]
  },
  {
   "attachments": {},
   "cell_type": "markdown",
   "metadata": {},
   "source": [
    "## Sweeping over an external parameter\n",
    "\n",
    "Equipped with a programmatic interface to explore interactions between subsystems, scqubits provides the class `ParameterSweep` to facilitate computation of spectra as function of an external parameter. See the [example notebook](./demo_parametersweep.ipynb) for `ParameterSweep` to explore sweeps and visualizing sweep data."
   ]
  }
 ],
 "metadata": {
  "celltoolbar": "Initialisation Cell",
  "kernelspec": {
   "display_name": "Python 3 (ipykernel)",
   "language": "python",
   "name": "python3"
  },
  "language_info": {
   "codemirror_mode": {
    "name": "ipython",
    "version": 3
   },
   "file_extension": ".py",
   "mimetype": "text/x-python",
   "name": "python",
   "nbconvert_exporter": "python",
   "pygments_lexer": "ipython3",
   "version": "3.11.5"
  },
  "toc": {
   "base_numbering": 1,
   "nav_menu": {},
   "number_sections": false,
   "sideBar": true,
   "skip_h1_title": true,
   "title_cell": "Table of Contents",
   "title_sidebar": "Contents",
   "toc_cell": false,
   "toc_position": {},
   "toc_section_display": true,
   "toc_window_display": true
  },
  "varInspector": {
   "cols": {
    "lenName": 16,
    "lenType": 16,
    "lenVar": 40
   },
   "kernels_config": {
    "python": {
     "delete_cmd_postfix": "",
     "delete_cmd_prefix": "del ",
     "library": "var_list.py",
     "varRefreshCmd": "print(var_dic_list())"
    },
    "r": {
     "delete_cmd_postfix": ") ",
     "delete_cmd_prefix": "rm(",
     "library": "var_list.r",
     "varRefreshCmd": "cat(var_dic_list()) "
    }
   },
   "types_to_exclude": [
    "module",
    "function",
    "builtin_function_or_method",
    "instance",
    "_Feature"
   ],
   "window_display": false
  },
  "widgets": {
   "application/vnd.jupyter.widget-state+json": {
    "state": {},
    "version_major": 2,
    "version_minor": 0
   }
  }
 },
 "nbformat": 4,
 "nbformat_minor": 4
}
