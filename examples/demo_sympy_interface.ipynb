{
  "cells": [
    {
      "cell_type": "markdown",
      "id": "6ca6ee48",
      "metadata": {
        "id": "6ca6ee48"
      },
      "source": [
        "# Guide to Combining scqubits and sympy for Quantum Circuit Analysis\n",
        "\n",
        "Hey there! Welcome to this tutorial where we’ll dive into the world of quantum circuits using two Python tools: **scqubits** and **sympy**. Whether you’re just starting out or already have some experience, this guide will walk you through how to use these libraries together to explore superconducting quantum systems, like qubits, in a way that’s both powerful and easy to understand.\n",
        "\n",
        "## Why Combine scqubits and sympy?\n",
        "\n",
        "- **scqubits**: Think of scqubits as your quantum lab. It’s a Python library that lets you simulate superconducting qubits numerically, meaning you can plug in numbers to calculate things like energy levels or transition frequencies.\n",
        "- **sympy**: Sympy is like a math wizard. It allows you to work with symbols (like variables in algebra) instead of specific numbers, so you can derive general formulas and explore relationships between parameters.\n",
        "\n",
        "By blending these two, we can simulate quantum systems with numbers (using scqubits) and understand their behavior with equations (using sympy). It’s like having a calculator and a chalkboard working together to unlock deeper insights!\n",
        "\n",
        "Don’t worry if this sounds a bit complex—we’ll go step by step, and by the end, you’ll be amazed at what you can do!\n"
      ]
    },
    {
      "cell_type": "markdown",
      "id": "9ba145b9",
      "metadata": {
        "id": "9ba145b9"
      },
      "source": [
        "\n",
        "## Getting Started: Installation\n",
        "\n",
        "Before we jump in, let’s make sure you have the tools you need. You’ll need to install `scqubits` and `sympy`. It’s super easy! If you’re using a Jupyter notebook, just run this command:"
      ]
    },
    {
      "cell_type": "code",
      "execution_count": 1,
      "id": "034e99c3",
      "metadata": {
        "colab": {
          "base_uri": "https://localhost:8080/"
        },
        "id": "034e99c3",
        "outputId": "70b9926c-a2f8-4220-d7d9-926104eb4687"
      },
      "outputs": [
        {
          "name": "stdout",
          "output_type": "stream",
          "text": [
            "Requirement already satisfied: scqubits in /usr/local/lib/python3.11/dist-packages (4.3.1)\n",
            "Requirement already satisfied: sympy in /usr/local/lib/python3.11/dist-packages (1.13.1)\n",
            "Requirement already satisfied: cycler in /usr/local/lib/python3.11/dist-packages (from scqubits) (0.12.1)\n",
            "Requirement already satisfied: dill in /usr/local/lib/python3.11/dist-packages (from scqubits) (0.4.0)\n",
            "Requirement already satisfied: pathos>=0.3.0 in /usr/local/lib/python3.11/dist-packages (from scqubits) (0.3.4)\n",
            "Requirement already satisfied: matplotlib>=3.5.1 in /usr/local/lib/python3.11/dist-packages (from scqubits) (3.10.0)\n",
            "Requirement already satisfied: numpy>=1.14.2 in /usr/local/lib/python3.11/dist-packages (from scqubits) (2.0.2)\n",
            "Requirement already satisfied: qutip>=4.3.1 in /usr/local/lib/python3.11/dist-packages (from scqubits) (5.2.0)\n",
            "Requirement already satisfied: scipy>=1.5 in /usr/local/lib/python3.11/dist-packages (from scqubits) (1.15.3)\n",
            "Requirement already satisfied: tqdm in /usr/local/lib/python3.11/dist-packages (from scqubits) (4.67.1)\n",
            "Requirement already satisfied: typing_extensions in /usr/local/lib/python3.11/dist-packages (from scqubits) (4.14.0)\n",
            "Requirement already satisfied: mpmath<1.4,>=1.1.0 in /usr/local/lib/python3.11/dist-packages (from sympy) (1.3.0)\n",
            "Requirement already satisfied: contourpy>=1.0.1 in /usr/local/lib/python3.11/dist-packages (from matplotlib>=3.5.1->scqubits) (1.3.2)\n",
            "Requirement already satisfied: fonttools>=4.22.0 in /usr/local/lib/python3.11/dist-packages (from matplotlib>=3.5.1->scqubits) (4.58.1)\n",
            "Requirement already satisfied: kiwisolver>=1.3.1 in /usr/local/lib/python3.11/dist-packages (from matplotlib>=3.5.1->scqubits) (1.4.8)\n",
            "Requirement already satisfied: packaging>=20.0 in /usr/local/lib/python3.11/dist-packages (from matplotlib>=3.5.1->scqubits) (24.2)\n",
            "Requirement already satisfied: pillow>=8 in /usr/local/lib/python3.11/dist-packages (from matplotlib>=3.5.1->scqubits) (11.2.1)\n",
            "Requirement already satisfied: pyparsing>=2.3.1 in /usr/local/lib/python3.11/dist-packages (from matplotlib>=3.5.1->scqubits) (3.2.3)\n",
            "Requirement already satisfied: python-dateutil>=2.7 in /usr/local/lib/python3.11/dist-packages (from matplotlib>=3.5.1->scqubits) (2.9.0.post0)\n",
            "Requirement already satisfied: ppft>=1.7.7 in /usr/local/lib/python3.11/dist-packages (from pathos>=0.3.0->scqubits) (1.7.7)\n",
            "Requirement already satisfied: pox>=0.3.6 in /usr/local/lib/python3.11/dist-packages (from pathos>=0.3.0->scqubits) (0.3.6)\n",
            "Requirement already satisfied: multiprocess>=0.70.18 in /usr/local/lib/python3.11/dist-packages (from pathos>=0.3.0->scqubits) (0.70.18)\n",
            "Requirement already satisfied: six>=1.5 in /usr/local/lib/python3.11/dist-packages (from python-dateutil>=2.7->matplotlib>=3.5.1->scqubits) (1.17.0)\n"
          ]
        }
      ],
      "source": [
        "!pip install scqubits sympy"
      ]
    },
    {
      "cell_type": "markdown",
      "id": "034cb21f",
      "metadata": {
        "id": "034cb21f"
      },
      "source": [
        "\n",
        "If you’re working in a different environment, like a Python script or terminal, copy that command into your terminal or command prompt. This will download and install both libraries, so you’re ready to roll. If they’re already installed, you can skip this step and dive right in!\n",
        "\n",
        "## Exploring scqubits: Your Quantum Lab\n",
        "\n",
        "Let’s start with `scqubits`. This library is designed for simulating superconducting qubits, like the Transmon qubit, which is a popular type used in quantum computing. A qubit is like the quantum version of a bit in regular computers, but it has special properties that make it super powerful for quantum calculations.\n",
        "\n",
        "With scqubits, you can define a qubit by setting its parameters, such as:\n",
        "- **Josephson energy (\\(E_J\\))**: Think of this as the strength of a special junction in the qubit.\n",
        "- **Charging energy (\\(E_C\\))**: This relates to how much energy it takes to add a charge to the qubit.\n",
        "- **Gate charge (\\(n_g\\))**: This controls the qubit’s behavior with an external voltage.\n",
        "- **Truncation parameter (\\(n_{cut}\\))**: This sets the size of the quantum system’s mathematical space.\n",
        "\n",
        "Here’s an example of how to create a Transmon qubit and calculate its energy levels:"
      ]
    },
    {
      "cell_type": "code",
      "execution_count": 2,
      "id": "5a414d20",
      "metadata": {
        "colab": {
          "base_uri": "https://localhost:8080/"
        },
        "id": "5a414d20",
        "outputId": "2e74fb53-f759-467f-e40e-240df6f5ad2e"
      },
      "outputs": [
        {
          "name": "stdout",
          "output_type": "stream",
          "text": [
            "Energy levels: [-45.06331229 -35.3200142  -25.84262677 -16.64359749  -7.737526\n",
            "   0.85814084]\n"
          ]
        }
      ],
      "source": [
        "import scqubits as scq\n",
        "\n",
        "# Define a Transmon qubit with specific numerical parameters\n",
        "transmon = scq.Transmon(\n",
        "    EJ=50.0,  # Josephson energy in GHz\n",
        "    EC=0.25,  # Charging energy in GHz\n",
        "    ng=0.0,   # Gate charge\n",
        "    ncut=30   # Truncation parameter for the Hilbert space\n",
        ")\n",
        "\n",
        "# Calculate the energy levels (eigenvalues) of the qubit\n",
        "evals = transmon.eigenvals()\n",
        "\n",
        "print(\"Energy levels:\", evals)"
      ]
    },
    {
      "cell_type": "markdown",
      "id": "a9d7fe1d",
      "metadata": {
        "id": "a9d7fe1d"
      },
      "source": [
        "This code sets up a Transmon qubit with \\(E_J = 50\\) GHz and \\(E_C = 0.25\\) GHz, then computes its energy levels. These levels tell us the possible energy states the qubit can have, which is key for understanding how it behaves in a quantum circuit.\n",
        "\n",
        "One thing to note: scqubits is great for numerical calculations, but it doesn’t handle symbolic parameters (like variables instead of numbers). That’s where sympy comes in, and we’ll explore that next!"
      ]
    },
    {
      "cell_type": "markdown",
      "id": "c40c9981",
      "metadata": {
        "id": "c40c9981"
      },
      "source": [
        "## Getting Started with sympy: Your Math Wizard\n",
        "\n",
        "While scqubits is awesome for crunching numbers, sometimes we want to work with general formulas instead of specific values. That’s where `sympy` shines. Sympy lets you define variables as symbols and perform algebraic operations, like solving equations, taking derivatives, or simplifying expressions.\n",
        "\n",
        "Let’s try it out by defining the Josephson energy (\\(E_J\\)) and charging energy (\\(E_C\\)) as symbols:"
      ]
    },
    {
      "cell_type": "code",
      "execution_count": 3,
      "id": "6ff51ea9",
      "metadata": {
        "id": "6ff51ea9"
      },
      "outputs": [],
      "source": [
        "import sympy as sp\n",
        "\n",
        "# Define symbolic variables for Josephson and charging energies\n",
        "EJ, EC = sp.symbols('E_J E_C')"
      ]
    },
    {
      "cell_type": "markdown",
      "id": "a8d24bc4",
      "metadata": {
        "id": "a8d24bc4"
      },
      "source": [
        "Now, let’s use these symbols to define an important property of the Transmon qubit: the **plasma frequency** (\\(\\omega_p\\)). This is like the natural “vibration” frequency of the qubit, and it’s approximately given by the formula:\n",
        "\n",
        "\\[\n",
        "\\omega_p = \\sqrt{8 E_J E_C}\n",
        "\\]\n",
        "\n",
        "Here’s how we can define it in sympy:"
      ]
    },
    {
      "cell_type": "code",
      "execution_count": 4,
      "id": "d3bb2054",
      "metadata": {
        "colab": {
          "base_uri": "https://localhost:8080/"
        },
        "id": "d3bb2054",
        "outputId": "e08369a5-8a22-4cd2-c32f-691c62ef08d2"
      },
      "outputs": [
        {
          "name": "stdout",
          "output_type": "stream",
          "text": [
            "Symbolic plasma frequency: 2*sqrt(2)*sqrt(E_C*E_J)\n"
          ]
        }
      ],
      "source": [
        "# Define the plasma frequency symbolically\n",
        "omega_p = sp.sqrt(8 * EJ * EC)\n",
        "\n",
        "print(\"Symbolic plasma frequency:\", omega_p)"
      ]
    },
    {
      "cell_type": "markdown",
      "id": "37a568dc",
      "metadata": {
        "id": "37a568dc"
      },
      "source": [
        "This gives us a general formula for \\(\\omega_p\\), which we can manipulate in all sorts of ways. For example, let’s say we want to know how sensitive the plasma frequency is to changes in \\(E_J\\) and \\(E_C\\). We can do this by taking the partial derivatives:"
      ]
    },
    {
      "cell_type": "code",
      "execution_count": 5,
      "id": "79c10d1a",
      "metadata": {
        "colab": {
          "base_uri": "https://localhost:8080/"
        },
        "id": "79c10d1a",
        "outputId": "9ce55f92-04d3-4ee7-e1aa-a337e98a0c8f"
      },
      "outputs": [
        {
          "name": "stdout",
          "output_type": "stream",
          "text": [
            "Sensitivity to EJ (dω_p / dE_J): sqrt(2)*sqrt(E_C*E_J)/E_J\n",
            "Sensitivity to EC (dω_p / dE_C): sqrt(2)*sqrt(E_C*E_J)/E_C\n"
          ]
        }
      ],
      "source": [
        "# Compute the partial derivatives of omega_p with respect to EJ and EC\n",
        "sensitivity_EJ = sp.diff(omega_p, EJ)\n",
        "sensitivity_EC = sp.diff(omega_p, EC)\n",
        "\n",
        "print(\"Sensitivity to EJ (dω_p / dE_J):\", sensitivity_EJ)\n",
        "print(\"Sensitivity to EC (dω_p / dE_C):\", sensitivity_EC)"
      ]
    },
    {
      "cell_type": "markdown",
      "id": "cea88aad",
      "metadata": {
        "id": "cea88aad"
      },
      "source": [
        "These derivatives tell us how much \\(\\omega_p\\) changes if we tweak \\(E_J\\) or \\(E_C\\), which is super helpful for designing qubits with specific frequencies.\n",
        "\n",
        "### Visualizing Sensitivities\n",
        "\n",
        "To better understand these sensitivities, let’s plot how they change as we vary \\(E_J\\), keeping \\(E_C\\) fixed. This will give us a visual sense of which parameter has a bigger impact on the plasma frequency."
      ]
    },
    {
      "cell_type": "code",
      "execution_count": 6,
      "id": "5bb7ba29",
      "metadata": {
        "colab": {
          "base_uri": "https://localhost:8080/",
          "height": 564
        },
        "id": "5bb7ba29",
        "outputId": "1ad674e9-2ec9-4879-d0ec-b804e3595077"
      },
      "outputs": [
        {
          "data": {
            "image/png": "[encoded data removed]",
            "text/plain": [
              "<Figure size 1000x600 with 1 Axes>"
            ]
          },
          "metadata": {},
          "output_type": "display_data"
        }
      ],
      "source": [
        "import numpy as np\n",
        "import matplotlib.pyplot as plt\n",
        "\n",
        "# Fix EC to a numerical value, say 0.25 GHz\n",
        "EC_fixed = 0.25\n",
        "\n",
        "# Create numerical functions for sensitivities\n",
        "sensitivity_EJ_func = sp.lambdify(EJ, sensitivity_EJ.subs(EC, EC_fixed), 'numpy')\n",
        "sensitivity_EC_func = sp.lambdify(EJ, sensitivity_EC.subs(EC, EC_fixed), 'numpy')\n",
        "\n",
        "# Define a range for EJ\n",
        "EJ_range = np.linspace(10, 100, 100)\n",
        "\n",
        "# Compute sensitivities\n",
        "sensitivity_EJ_values = sensitivity_EJ_func(EJ_range)\n",
        "sensitivity_EC_values = sensitivity_EC_func(EJ_range)\n",
        "\n",
        "# Plot\n",
        "plt.figure(figsize=(10, 6))\n",
        "plt.plot(EJ_range, sensitivity_EJ_values, label='dω_p / dE_J', color='blue')\n",
        "plt.plot(EJ_range, sensitivity_EC_values, label='dω_p / dE_C', color='orange')\n",
        "plt.xlabel('E_J (GHz)')\n",
        "plt.ylabel('Sensitivity')\n",
        "plt.title('Sensitivities of Plasma Frequency to E_J and E_C (E_C = 0.25 GHz)')\n",
        "plt.legend()\n",
        "plt.grid(True)\n",
        "plt.show()"
      ]
    },
    {
      "cell_type": "markdown",
      "id": "5379a173",
      "metadata": {
        "id": "5379a173"
      },
      "source": [
        "From this plot, we can see that:\n",
        "- The sensitivity to \\(E_J\\) decreases as \\(E_J\\) increases, meaning larger \\(E_J\\) values make \\(\\omega_p\\) less sensitive to changes in \\(E_J\\).\n",
        "- The sensitivity to \\(E_C\\) remains relatively constant, indicating that changes in \\(E_C\\) have a consistent impact on \\(\\omega_p\\).\n",
        "\n",
        "This visualization provides deeper insight into how to tune qubit parameters for desired behavior.\n",
        "\n",
        "## Combining scqubits and sympy: The Best of Both Worlds\n",
        "\n",
        "Now, let’s bring scqubits and sympy together to analyze quantum circuits in a powerful way. The catch is that scqubits expects numerical values for parameters like \\(E_J\\) and \\(E_C\\), so we can’t directly use symbols in scqubits calculations. But we can use sympy to derive general relationships and then plug in numbers to connect back to scqubits.\n",
        "\n",
        "Let’s try defining a Transmon qubit with symbolic parameters to see what happens:"
      ]
    },
    {
      "cell_type": "code",
      "execution_count": 7,
      "id": "da8bb5df",
      "metadata": {
        "colab": {
          "base_uri": "https://localhost:8080/"
        },
        "id": "da8bb5df",
        "outputId": "d04ff54e-6774-448b-bdd0-1a3805b70c84"
      },
      "outputs": [
        {
          "name": "stdout",
          "output_type": "stream",
          "text": [
            "Error: object arrays are not supported\n"
          ]
        }
      ],
      "source": [
        "# Try to define a Transmon with symbolic parameters\n",
        "try:\n",
        "    transmon_sym = scq.Transmon(EJ=EJ, EC=EC, ng=0.0, ncut=30)\n",
        "    evals_sym = transmon_sym.eigenvals()\n",
        "except Exception as e:\n",
        "    print(\"Error:\", e)"
      ]
    },
    {
      "cell_type": "markdown",
      "id": "caf08890",
      "metadata": {
        "id": "caf08890"
      },
      "source": [
        "\n",
        "As expected, this doesn’t work because scqubits needs numbers, not symbols, to compute things like eigenvalues. So, instead, we’ll use sympy to work with our symbolic expressions and then substitute numerical values when we need to connect to scqubits or create visualizations.\n",
        "\n",
        "### Example: Solving for \\(E_J\\)\n",
        "\n",
        "Suppose we want to design a qubit with a plasma frequency of 5 GHz, and we know \\(E_C = 0.25\\) GHz. We can use our symbolic expression for \\(\\omega_p\\) to find the required \\(E_J\\):"
      ]
    },
    {
      "cell_type": "code",
      "execution_count": 8,
      "id": "ad90a6ff",
      "metadata": {
        "colab": {
          "base_uri": "https://localhost:8080/"
        },
        "id": "ad90a6ff",
        "outputId": "8bdeadc2-18d4-4afb-833b-bac61fc53198"
      },
      "outputs": [
        {
          "name": "stdout",
          "output_type": "stream",
          "text": [
            "Required E_J for ω_p = 5 GHz: [12.5000000000000]\n"
          ]
        }
      ],
      "source": [
        "# Set the desired plasma frequency\n",
        "desired_omega_p = 5.0  # in GHz\n",
        "\n",
        "# Set a numerical value for EC\n",
        "EC_num = 0.25  # in GHz\n",
        "\n",
        "# Substitute EC into the plasma frequency expression\n",
        "omega_p_with_EC = omega_p.subs(EC, EC_num)\n",
        "\n",
        "# Solve for EJ to achieve the desired omega_p\n",
        "solution = sp.solve(omega_p_with_EC - desired_omega_p, EJ)\n",
        "\n",
        "print(\"Required E_J for ω_p = 5 GHz:\", solution)"
      ]
    },
    {
      "cell_type": "markdown",
      "id": "77b51c55",
      "metadata": {
        "id": "77b51c55"
      },
      "source": [
        "This code uses sympy to solve the equation \\(\\sqrt{8 E_J \\cdot 0.25} = 5\\), giving us the value of \\(E_J\\) needed for the desired frequency. Isn’t that cool? We’re using math to design our qubit!\n",
        "\n",
        "### Visualizing the Relationship\n",
        "\n",
        "To get a better sense of how \\(\\omega_p\\) depends on \\(E_J\\), let’s create a plot. We’ll use sympy to turn our symbolic expression into a numerical function and then use matplotlib to visualize it:"
      ]
    },
    {
      "cell_type": "code",
      "execution_count": 9,
      "id": "6b76a985",
      "metadata": {
        "colab": {
          "base_uri": "https://localhost:8080/",
          "height": 472
        },
        "id": "6b76a985",
        "outputId": "442076ab-3051-4598-aece-b78eb2dd717f"
      },
      "outputs": [
        {
          "data": {
            "image/png": "[encoded data removed]",
            "text/plain": [
              "<Figure size 640x480 with 1 Axes>"
            ]
          },
          "metadata": {},
          "output_type": "display_data"
        }
      ],
      "source": [
        "# Convert the symbolic expression to a numerical function\n",
        "omega_p_func = sp.lambdify(EJ, omega_p_with_EC, 'numpy')\n",
        "\n",
        "# Define a range of EJ values to explore\n",
        "EJ_values = np.linspace(10, 100, 100)\n",
        "\n",
        "# Compute omega_p for these EJ values\n",
        "omega_p_values = omega_p_func(EJ_values)\n",
        "\n",
        "# Create the plot\n",
        "plt.plot(EJ_values, omega_p_values, color='green')\n",
        "plt.xlabel('E_J (GHz)')\n",
        "plt.ylabel('ω_p (GHz)')\n",
        "plt.title('Plasma Frequency vs Josephson Energy (E_C = 0.25 GHz)')\n",
        "plt.grid(True)\n",
        "plt.show()"
      ]
    },
    {
      "cell_type": "markdown",
      "id": "94654dca",
      "metadata": {
        "id": "94654dca"
      },
      "source": [
        "This plot shows how the plasma frequency changes as we vary \\(E_J\\), with \\(E_C\\) fixed at 0.25 GHz. It’s a great way to visualize the relationship and understand how to tune our qubit for different frequencies."
      ]
    },
    {
      "cell_type": "markdown",
      "id": "35dc13df",
      "metadata": {
        "id": "35dc13df"
      },
      "source": [
        "## Working with Non-Commuting Operators in sympy\n",
        "\n",
        "In quantum mechanics, we often encounter operators that do not commute, meaning the order in which they are applied matters. This is a fundamental concept, for example, in describing position and momentum, or in the context of superconducting qubits, where different operations on the qubit might not commute. `sympy` can also be used to represent and manipulate such non-commuting operators.\n",
        "\n",
        "To define non-commuting symbols in `sympy`, we use the `commutative=False` argument. Let's define two non-commuting operators, \\(A\\) and \\(B\\):"
      ]
    },
    {
      "cell_type": "code",
      "execution_count": 10,
      "id": "01beeb7e",
      "metadata": {
        "colab": {
          "base_uri": "https://localhost:8080/"
        },
        "id": "01beeb7e",
        "outputId": "08995cba-c2bb-439d-b555-66d0d08999ef"
      },
      "outputs": [
        {
          "name": "stdout",
          "output_type": "stream",
          "text": [
            "Is A*B == B*A? Eq(A*B, B*A)\n"
          ]
        }
      ],
      "source": [
        "import sympy as sp\n",
        "\n",
        "# Define non-commuting symbolic variables\n",
        "A, B = sp.symbols('A B', commutative=False)\n",
        "\n",
        "# Let's check if they commute\n",
        "print(f\"Is A*B == B*A? {sp.Eq(A*B, B*A)}\")"
      ]
    },
    {
      "cell_type": "markdown",
      "id": "6056f614",
      "metadata": {
        "id": "6056f614"
      },
      "source": [
        "As expected, `sympy` recognizes that \\(A \\cdot B\\) is not equal to \\(B \\cdot A\\).\n",
        "\n",
        "Now, let's explore some simple manipulations with these non-commuting operators. For instance, consider the expression \\((A+B)^2\\):"
      ]
    },
    {
      "cell_type": "code",
      "execution_count": 11,
      "id": "277c2ae1",
      "metadata": {
        "colab": {
          "base_uri": "https://localhost:8080/"
        },
        "id": "277c2ae1",
        "outputId": "9bb774f0-9a4f-4056-87fc-a9256d075d5b"
      },
      "outputs": [
        {
          "name": "stdout",
          "output_type": "stream",
          "text": [
            "Expanded expression of (A+B)^2: A*B + A**2 + B*A + B**2\n"
          ]
        }
      ],
      "source": [
        "# Expand the expression (A+B)^2\n",
        "expression = (A + B)**2\n",
        "expanded_expression = sp.expand(expression)\n",
        "\n",
        "print(f\"Expanded expression of (A+B)^2: {expanded_expression}\")"
      ]
    },
    {
      "cell_type": "markdown",
      "id": "2d474bec",
      "metadata": {
        "id": "2d474bec"
      },
      "source": [
        "Notice that the expanded expression includes both \\(A \\cdot B\\) and \\(B \\cdot A\\) terms, which is crucial because they are not equal.\n",
        "\n",
        "While this is a basic example, the ability to symbolically manipulate non-commuting operators in `sympy` can be powerful when dealing with more complex quantum mechanical expressions or deriving equations of motion for quantum systems. In the context of superconducting qubits, this could be applied to analyzing the effect of sequences of quantum gates, which are represented by non-commuting operators."
      ]
    },
    {
      "cell_type": "markdown",
      "id": "-sUwLty88_X5",
      "metadata": {
        "id": "-sUwLty88_X5"
      },
      "source": [
        "## Wrapping It Up\n",
        "\n",
        "Wow, you’ve made it through!\n",
        "\n",
        "In this tutorial, we’ve learned how to combine `scqubits` and `sympy` to analyze quantum circuits in two powerful ways:\n",
        "- **Numerically**, using scqubits to simulate qubits with specific parameters.\n",
        "- **Symbolically**, using sympy to derive general formulas and explore relationships.\n",
        "\n",
        "This approach gives you a deeper understanding of how qubits work and helps you design quantum systems with the exact properties you want. Pretty amazing, right?\n",
        "\n",
        "### What’s Next?\n",
        "\n",
        "If you’re excited to keep exploring, here are some ideas:\n",
        "- Try this method with other qubit types, like Fluxonium or Xmon, in scqubits.\n",
        "- Dive deeper into sympy by exploring advanced features, like solving differential equations or working with matrices.\n",
        "- Combine symbolic results with scqubits’ parameter sweeps to study how changing multiple parameters affects your system.\n",
        "- Check out the official documentation for [scqubits](https://scqubits.readthedocs.io/) and [sympy](https://docs.sympy.org/) for more inspiration.\n",
        "\n",
        "Keep experimenting—you’re well on your way to becoming a quantum computing pro!\n",
        "\n",
        "Thanks for joining me on this quantum adventure! Have fun exploring scqubits and sympy!"
      ]
    }
  ],
  "metadata": {
    "colab": {
      "provenance": []
    },
    "kernelspec": {
      "display_name": "Python 3",
      "language": "python",
      "name": "python3"
    },
    "language_info": {
      "codemirror_mode": {
        "name": "ipython",
        "version": 3
      },
      "file_extension": ".py",
      "mimetype": "text/x-python",
      "name": "python",
      "nbconvert_exporter": "python",
      "pygments_lexer": "ipython3",
      "version": "3.10.12"
    }
  },
  "nbformat": 4,
  "nbformat_minor": 5
}
