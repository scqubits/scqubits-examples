{
 "cells": [
  {
   "cell_type": "markdown",
   "metadata": {},
   "source": [
    "# [DEPRECATED] scqubits example: the Explorer class\n",
    "J. Koch and P. Groszkowski\n",
    "\n",
    "For further documentation of scqubits see https://scqubits.readthedocs.io/en/latest/.\n",
    "\n",
    "---"
   ]
  },
  {
   "cell_type": "code",
   "execution_count": 1,
   "metadata": {
    "ExecuteTime": {
     "end_time": "2020-02-13T14:26:06.207526Z",
     "start_time": "2020-02-13T14:26:03.363950Z"
    }
   },
   "outputs": [],
   "source": [
    "%matplotlib inline\n",
    "%config InlineBackend.figure_format = 'svg'\n",
    "\n",
    "import numpy as np\n",
    "\n",
    "import scqubits as scq\n",
    "from scqubits import HilbertSpace, InteractionTerm, ParameterSweep, Explorer"
   ]
  },
  {
   "cell_type": "markdown",
   "metadata": {},
   "source": [
    "# The Explorer Class\n",
    "\n",
    "Sometimes, exploring the properties of coupled quantum systems benefits from visual aides, and the possibility to see how properties change when system parameters are changed. The `Explorer` class in scqubits provides an interactive plot with multiple panels collecting an important set of information. \n",
    "\n",
    "The idea behind the `Explorer` class is simple: the user selects an external parameter that they wish to sweep, e.g., an external magnetic flux. The composite system is user-defined through the `HilbertSpace` and `InteractionTerm` classes, allowing flexibility to include different types and numbers of superconducting qubits and harmonic modes.\n",
    "\n",
    "Once defined, the parameter sweep is computed by means of the `ParameterSweep` class, and spectral data is stored in memory to allow efficient, interactive display of data. The `Explorer` plots are currently fixed to:\n",
    "\n",
    "1. Bare spectra of the individual qubits\n",
    "2. Wave functions of the bare qubits\n",
    "3. Dressed spectrum of the composite Hilbert space\n",
    "4. Spectrum for n-photon qubit transitions, starting from a given initial state\n",
    "5. AC Stark shift $\\chi_{01}$ for any of the qubits\n",
    "6. Charge matrix elements for any of the qubits, using the same initial state as in point 4.\n",
    "\n",
    "## Example 1: fluxonium coupled to resonator\n",
    "As a first example, we consider a system composed of a fluxonium qubit, coupled through its charge operator to the voltage inside a resonator.\n",
    "\n",
    "### HilbertSpace setup\n",
    "The initialization of the composite Hilbert space proceeds as usual; we first define the individual two subsystems that will make up the Hilbert space:"
   ]
  },
  {
   "cell_type": "code",
   "execution_count": 2,
   "metadata": {
    "ExecuteTime": {
     "end_time": "2020-02-13T14:26:06.228141Z",
     "start_time": "2020-02-13T14:26:06.213556Z"
    }
   },
   "outputs": [],
   "source": [
    "qbt = scq.Fluxonium(\n",
    "    EJ=2.55,\n",
    "    EC=0.72,\n",
    "    EL=0.12,\n",
    "    flux=0.0,\n",
    "    cutoff=110,\n",
    "    truncated_dim=9\n",
    ")\n",
    "\n",
    "osc = scq.Oscillator(\n",
    "    E_osc=4.0,\n",
    "    truncated_dim=5\n",
    ")"
   ]
  },
  {
   "cell_type": "markdown",
   "metadata": {},
   "source": [
    "We are creating two quantum systems using the `scq` library.\n",
    "\n",
    "1. `Fluxonium`: This is a type of superconducting circuit, a quantum system that can be used as a qubit (the basic unit of quantum information). The parameters `EJ`, `EC`, `EL`, `flux`, `cutoff`, and `truncated_dim` are specific to the physics of the Fluxonium system.\n",
    "\n",
    "2. `Oscillator`: This represents a quantum harmonic oscillator, a system that, when undisturbed, oscillates at some steady frequency. `E_osc` is the energy of the oscillator and `truncated_dim` is the dimension after truncation.\n",
    "\n",
    "Here's a brief explanation of the parameters:\n",
    "\n",
    "- `EJ`, `EC`, `EL`: Energy scales for the Fluxonium system (Josephson, charging, and inductive energy respectively).\n",
    "- `flux`: External magnetic flux applied to the Fluxonium circuit.\n",
    "- `cutoff`: The maximum number of charge states included in the Hilbert space.\n",
    "- `truncated_dim`: The dimension of the Hilbert space after it has been truncated.\n",
    "- `E_osc`: Energy of the quantum harmonic oscillator."
   ]
  },
  {
   "cell_type": "code",
   "execution_count": 3,
   "metadata": {
    "ExecuteTime": {
     "end_time": "2020-02-13T14:26:06.252987Z",
     "start_time": "2020-02-13T14:26:06.235033Z"
    }
   },
   "outputs": [],
   "source": [
    "hilbertspace = scq.HilbertSpace([qbt, osc])"
   ]
  },
  {
   "cell_type": "markdown",
   "metadata": {},
   "source": [
    "The interaction between fluxonium and resonator is of the form $H_\\text{int} = g n (a+a^\\dagger)$, where $n$ is the fluxonium's charge operator: `qbt.n_operator()`. This structure is captured by creating an `InteractionTerm` object. Since this is the only interaction term, the `interaction_list` contains only this one term. It is inserted into the `HilbertSpace` object."
   ]
  },
  {
   "cell_type": "code",
   "execution_count": 16,
   "metadata": {
    "ExecuteTime": {
     "end_time": "2020-02-13T14:26:08.346043Z",
     "start_time": "2020-02-13T14:26:08.338054Z"
    }
   },
   "outputs": [
    {
     "data": {
      "text/latex": [
       "Quantum object: dims = [[3, 3, 4], [3, 3, 4]], shape = (36, 36), type = oper, isherm = True $ \\\\ \\left(\\begin{matrix}-63.160 & 0.0 & 0.0 & 0.0 & 0.0 & \\cdots & 0.0 & 0.0 & 0.0 & 0.0 & 0.0\\\\0.0 & -57.660 & 0.0 & 0.0 & -0.336 & \\cdots & 0.0 & 0.0 & 0.0 & 0.0 & 0.0\\\\0.0 & 0.0 & -52.160 & 0.0 & 0.0 & \\cdots & 0.0 & 0.0 & 0.0 & 0.0 & 0.0\\\\0.0 & 0.0 & 0.0 & -46.660 & 0.0 & \\cdots & 0.0 & 0.0 & 0.0 & 0.0 & 0.0\\\\0.0 & -0.336 & 0.0 & 0.0 & -56.386 & \\cdots & 0.0 & 0.0 & 0.0 & 0.0 & 0.0\\\\\\vdots & \\vdots & \\vdots & \\vdots & \\vdots & \\ddots & \\vdots & \\vdots & \\vdots & \\vdots & \\vdots\\\\0.0 & 0.0 & 0.0 & 0.0 & 0.0 & \\cdots & -26.657 & 0.0 & 0.0 & -0.813 & 0.0\\\\0.0 & 0.0 & 0.0 & 0.0 & 0.0 & \\cdots & 0.0 & -36.540 & 0.0 & 0.0 & 0.0\\\\0.0 & 0.0 & 0.0 & 0.0 & 0.0 & \\cdots & 0.0 & 0.0 & -31.040 & 0.0 & 0.0\\\\0.0 & 0.0 & 0.0 & 0.0 & 0.0 & \\cdots & -0.813 & 0.0 & 0.0 & -25.540 & 0.0\\\\0.0 & 0.0 & 0.0 & 0.0 & 0.0 & \\cdots & 0.0 & 0.0 & 0.0 & 0.0 & -20.040\\\\\\end{matrix}\\right)$"
      ],
      "text/plain": [
       "Quantum object: dims = [[3, 3, 4], [3, 3, 4]], shape = (36, 36), type = oper, isherm = True\n",
       "Qobj data =\n",
       "[[-63.16047168   0.           0.         ...   0.           0.\n",
       "    0.        ]\n",
       " [  0.         -57.66047168   0.         ...   0.           0.\n",
       "    0.        ]\n",
       " [  0.           0.         -52.16047168 ...   0.           0.\n",
       "    0.        ]\n",
       " ...\n",
       " [  0.           0.           0.         ... -31.04021827   0.\n",
       "    0.        ]\n",
       " [  0.           0.           0.         ...   0.         -25.54021827\n",
       "    0.        ]\n",
       " [  0.           0.           0.         ...   0.           0.\n",
       "  -20.04021827]]"
      ]
     },
     "execution_count": 16,
     "metadata": {},
     "output_type": "execute_result"
    }
   ],
   "source": [
    "# Define the interaction term\n",
    "interaction_term = InteractionTerm(\n",
    "    g_strength=0.2,\n",
    "    operator_list=[(0, qbt.n_operator()), (1, osc.creation_operator() + osc.annihilation_operator())]\n",
    ")\n",
    "\n",
    "# Define the subsystem list\n",
    "subsystem_list = [qbt, osc]\n",
    "\n",
    "# Get the Hamiltonian\n",
    "hamiltonian = interaction_term.hamiltonian(subsystem_list)\n",
    "\n",
    "# Print the Hamiltonian\n",
    "dressed_hamiltonian = hilbertspace.hamiltonian()\n",
    "dressed_hamiltonian"
   ]
  },
  {
   "cell_type": "markdown",
   "metadata": {},
   "source": [
    "### Parameter sweep setup\n",
    "We consider sweeping the external flux through the fluxonium loop. To create the necessary `ParameterSweep` object, we specify:\n",
    "1. `param_name`: the name of the sweep parameter (below expressed in LaTeX format as the flux in units of the flux quantum)\n",
    "2. `param_vals`: an array with the flux values used in the sweep\n",
    "3. `subsys_update_list`: a list containing all Hilbert space subsystems that change as the flux is varied\n",
    "4. `update_hilbertspace(param_val)`: a function that shows how a change in the sweep parameter affects the Hilbert space; here only the `.flux` attributed of the fluxonium qubit needs to be changed\n",
    "\n",
    "These ingredients all make it into the initialization of the `ParameterSweep` object. Once initialized, spectral data is generated and stored. Here, we additionally generate data for dispersive shifts and charge matrix elements."
   ]
  },
  {
   "cell_type": "code",
   "execution_count": 5,
   "metadata": {},
   "outputs": [],
   "source": [
    "#! pip install pathos"
   ]
  },
  {
   "cell_type": "code",
   "execution_count": 6,
   "metadata": {
    "ExecuteTime": {
     "end_time": "2020-02-13T14:26:13.431122Z",
     "start_time": "2020-02-13T14:26:09.721855Z"
    }
   },
   "outputs": [
    {
     "data": {
      "application/vnd.jupyter.widget-view+json": {
       "model_id": "51b8321a21d74248a242230b7446844d",
       "version_major": 2,
       "version_minor": 0
      },
      "text/plain": [
       "Parallel compute bare eigensys for subsystem Fluxonium_1 [num_cpus=4]"
      ]
     },
     "metadata": {},
     "output_type": "display_data"
    },
    {
     "data": {
      "application/vnd.jupyter.widget-view+json": {
       "model_id": "5b579be925a445a3a98f7e7f03d5f743",
       "version_major": 2,
       "version_minor": 0
      },
      "text/plain": [
       "Parallel compute bare eigensys for subsystem Oscillator_1 [num_cpus=4]"
      ]
     },
     "metadata": {},
     "output_type": "display_data"
    },
    {
     "data": {
      "application/vnd.jupyter.widget-view+json": {
       "model_id": "8e6e2cc7ff844abcb9f3598fb07cd430",
       "version_major": 2,
       "version_minor": 0
      },
      "text/plain": [
       "Parallel compute dressed eigensys [num_cpus=4]"
      ]
     },
     "metadata": {},
     "output_type": "display_data"
    }
   ],
   "source": [
    "param_name = r'$\\Phi_{ext}/\\Phi_0$'\n",
    "param_vals = np.linspace(-0.5, 0.5, 100)\n",
    "\n",
    "subsys_update_list = [qbt]\n",
    "\n",
    "def update_hilbertspace(param_val):\n",
    "    qbt.flux = param_val\n",
    "\n",
    "sweep = ParameterSweep(\n",
    "    hilbertspace=hilbertspace,\n",
    "    paramvals_by_name={param_name: param_vals},\n",
    "    update_hilbertspace=update_hilbertspace,\n",
    "    evals_count=10,\n",
    "    subsys_update_info={'qbt': subsys_update_list},\n",
    "    num_cpus=4\n",
    ")"
   ]
  },
  {
   "cell_type": "markdown",
   "metadata": {},
   "source": [
    "### Starting the Explorer class\n",
    "At this point, everything is prepared to start the interactive `Explorer` and play with the interactive display!"
   ]
  },
  {
   "cell_type": "code",
   "execution_count": 7,
   "metadata": {
    "ExecuteTime": {
     "end_time": "2020-02-13T14:26:20.251368Z",
     "start_time": "2020-02-13T14:26:17.313557Z"
    }
   },
   "outputs": [
    {
     "data": {
      "application/vnd.jupyter.widget-view+json": {
       "model_id": "bf7e440714e0453695705ef197b9cfab",
       "version_major": 2,
       "version_minor": 0
      },
      "text/plain": [
       "Container(children=[Sheet(children=[Card(children=[Img(layout=None, src='data:image/png;base64,iVBORw0KGgoAAAA…"
      ]
     },
     "metadata": {},
     "output_type": "display_data"
    }
   ],
   "source": [
    "# Create an Explorer object\n",
    "explorer = Explorer(sweep=sweep, ncols=3)\n"
   ]
  },
  {
   "cell_type": "code",
   "execution_count": 8,
   "metadata": {},
   "outputs": [
    {
     "data": {
      "text/plain": [
       "<scqubits.core.param_sweep.ParameterSweep at 0x1c177c25150>"
      ]
     },
     "execution_count": 8,
     "metadata": {},
     "output_type": "execute_result"
    }
   ],
   "source": [
    "# Access the ParameterSweep object\n",
    "sweep = explorer.sweep\n",
    "sweep"
   ]
  },
  {
   "cell_type": "code",
   "execution_count": 9,
   "metadata": {},
   "outputs": [
    {
     "data": {
      "text/plain": [
       "[Fluxonium(**{'EJ': 2.55, 'EC': 0.72, 'EL': 0.12, 'flux': -0.5, 'cutoff': 110, 'truncated_dim': 9, 'id_str': 'Fluxonium_1', 'evals_method': None, 'evals_method_options': None, 'esys_method': None, 'esys_method_options': None}),\n",
       " Oscillator(**{'E_osc': 4.0, 'l_osc': None, 'truncated_dim': 5, 'id_str': 'Oscillator_1'})]"
      ]
     },
     "execution_count": 9,
     "metadata": {},
     "output_type": "execute_result"
    }
   ],
   "source": [
    "# Access the subsystems\n",
    "subsystems = explorer.subsystems\n",
    "subsystems"
   ]
  },
  {
   "cell_type": "code",
   "execution_count": 10,
   "metadata": {},
   "outputs": [
    {
     "data": {
      "text/plain": [
       "['Fluxonium_1', 'Oscillator_1']"
      ]
     },
     "execution_count": 10,
     "metadata": {},
     "output_type": "execute_result"
    }
   ],
   "source": [
    "# Access the subsystem names\n",
    "subsys_names = explorer.subsys_names\n",
    "subsys_names"
   ]
  },
  {
   "cell_type": "code",
   "execution_count": 11,
   "metadata": {},
   "outputs": [
    {
     "data": {
      "text/plain": [
       "{'panel_switch_by_plot_id': {PlotID(PlotType.ENERGY_SPECTRUM, [Fluxonium(**{'EJ': 2.55, 'EC': 0.72, 'EL': 0.12, 'flux': -0.5, 'cutoff': 110, 'truncated_dim': 9, 'id_str': 'Fluxonium_1', 'evals_method': None, 'evals_method_options': None, 'esys_method': None, 'esys_method_options': None})]): LinkedSwitch(dense=True, label='Energy spectrum', layout=None, v_model=True),\n",
       "  PlotID(PlotType.WAVEFUNCTIONS, [Fluxonium(**{'EJ': 2.55, 'EC': 0.72, 'EL': 0.12, 'flux': -0.5, 'cutoff': 110, 'truncated_dim': 9, 'id_str': 'Fluxonium_1', 'evals_method': None, 'evals_method_options': None, 'esys_method': None, 'esys_method_options': None})]): LinkedSwitch(dense=True, label='Wavefunctions', layout=None, v_model=True),\n",
       "  PlotID(PlotType.MATRIX_ELEMENTS, [Fluxonium(**{'EJ': 2.55, 'EC': 0.72, 'EL': 0.12, 'flux': -0.5, 'cutoff': 110, 'truncated_dim': 9, 'id_str': 'Fluxonium_1', 'evals_method': None, 'evals_method_options': None, 'esys_method': None, 'esys_method_options': None})]): LinkedSwitch(dense=True, label='Matrix elements (fixed)', layout=None, v_model=False),\n",
       "  PlotID(PlotType.MATRIX_ELEMENT_SCAN, [Fluxonium(**{'EJ': 2.55, 'EC': 0.72, 'EL': 0.12, 'flux': -0.5, 'cutoff': 110, 'truncated_dim': 9, 'id_str': 'Fluxonium_1', 'evals_method': None, 'evals_method_options': None, 'esys_method': None, 'esys_method_options': None})]): LinkedSwitch(dense=True, label='Matrix elements (sweep)', layout=None, v_model=False),\n",
       "  PlotID(PlotType.ANHARMONICITY, [Fluxonium(**{'EJ': 2.55, 'EC': 0.72, 'EL': 0.12, 'flux': -0.5, 'cutoff': 110, 'truncated_dim': 9, 'id_str': 'Fluxonium_1', 'evals_method': None, 'evals_method_options': None, 'esys_method': None, 'esys_method_options': None})]): LinkedSwitch(dense=True, label='Anharmonicity', layout=None, v_model=False),\n",
       "  PlotID(PlotType.SELF_KERR, [Fluxonium(**{'EJ': 2.55, 'EC': 0.72, 'EL': 0.12, 'flux': -0.5, 'cutoff': 110, 'truncated_dim': 9, 'id_str': 'Fluxonium_1', 'evals_method': None, 'evals_method_options': None, 'esys_method': None, 'esys_method_options': None})]): LinkedSwitch(dense=True, label='Self-Kerr', layout=None, v_model=False),\n",
       "  PlotID(PlotType.ENERGY_SPECTRUM, [Oscillator(**{'E_osc': 4.0, 'l_osc': None, 'truncated_dim': 5, 'id_str': 'Oscillator_1'})]): LinkedSwitch(dense=True, label='Energy spectrum', layout=None, v_model=False),\n",
       "  PlotID(PlotType.SELF_KERR, [Oscillator(**{'E_osc': 4.0, 'l_osc': None, 'truncated_dim': 5, 'id_str': 'Oscillator_1'})]): LinkedSwitch(dense=True, label='Self-Kerr', layout=None, v_model=False),\n",
       "  PlotID(PlotType.TRANSITIONS, [Fluxonium(**{'EJ': 2.55, 'EC': 0.72, 'EL': 0.12, 'flux': -0.5, 'cutoff': 110, 'truncated_dim': 9, 'id_str': 'Fluxonium_1', 'evals_method': None, 'evals_method_options': None, 'esys_method': None, 'esys_method_options': None}), Oscillator(**{'E_osc': 4.0, 'l_osc': None, 'truncated_dim': 5, 'id_str': 'Oscillator_1'})]): LinkedSwitch(dense=True, label='Transitions', layout=None, v_model=True),\n",
       "  PlotID(PlotType.AC_STARK, [Fluxonium(**{'EJ': 2.55, 'EC': 0.72, 'EL': 0.12, 'flux': -0.5, 'cutoff': 110, 'truncated_dim': 9, 'id_str': 'Fluxonium_1', 'evals_method': None, 'evals_method_options': None, 'esys_method': None, 'esys_method_options': None}), Oscillator(**{'E_osc': 4.0, 'l_osc': None, 'truncated_dim': 5, 'id_str': 'Oscillator_1'})]): LinkedSwitch(dense=True, label='ac Stark: Fluxonium_1, Oscillator_1', layout=None, v_model=False)},\n",
       " 'panel_switches_by_subsys_name': {'Composite': [LinkedSwitch(dense=True, label='Transitions', layout=None, v_model=True),\n",
       "   LinkedSwitch(dense=True, label='ac Stark: Fluxonium_1, Oscillator_1', layout=None, v_model=False)],\n",
       "  'Fluxonium_1': [LinkedSwitch(dense=True, label='Energy spectrum', layout=None, v_model=True),\n",
       "   LinkedSwitch(dense=True, label='Wavefunctions', layout=None, v_model=True),\n",
       "   LinkedSwitch(dense=True, label='Matrix elements (fixed)', layout=None, v_model=False),\n",
       "   LinkedSwitch(dense=True, label='Matrix elements (sweep)', layout=None, v_model=False),\n",
       "   LinkedSwitch(dense=True, label='Anharmonicity', layout=None, v_model=False),\n",
       "   LinkedSwitch(dense=True, label='Self-Kerr', layout=None, v_model=False)],\n",
       "  'Oscillator_1': [LinkedSwitch(dense=True, label='Energy spectrum', layout=None, v_model=False),\n",
       "   LinkedSwitch(dense=True, label='Self-Kerr', layout=None, v_model=False)]},\n",
       " 'panel_switches': {'Composite': Container(children=[LinkedSwitch(dense=True, label='Transitions', layout=None, v_model=True), LinkedSwitch(dense=True, label='ac Stark: Fluxonium_1, Oscillator_1', layout=None, v_model=False)], class_='d-flex flex-column', layout=None),\n",
       "  'Fluxonium_1': Container(children=[LinkedSwitch(dense=True, label='Energy spectrum', layout=None, v_model=True), LinkedSwitch(dense=True, label='Wavefunctions', layout=None, v_model=True), LinkedSwitch(dense=True, label='Matrix elements (fixed)', layout=None, v_model=False), LinkedSwitch(dense=True, label='Matrix elements (sweep)', layout=None, v_model=False), LinkedSwitch(dense=True, label='Anharmonicity', layout=None, v_model=False), LinkedSwitch(dense=True, label='Self-Kerr', layout=None, v_model=False)], class_='d-flex flex-column', layout=None),\n",
       "  'Oscillator_1': Container(children=[LinkedSwitch(dense=True, label='Energy spectrum', layout=None, v_model=False), LinkedSwitch(dense=True, label='Self-Kerr', layout=None, v_model=False)], class_='d-flex flex-column', layout=None)},\n",
       " 'add_plot_dialog': Dialog(children=[Card(children=[Toolbar(children=[ToolbarTitle(children=['Choose Plot'], layout=None)], color='deep-purple accent-4', dark=True, layout=None), Container(children=[Container(children=[CardTitle(children=['Composite-system plots'], layout=None), Container(children=[LinkedSwitch(dense=True, label='Transitions', layout=None, v_model=True), LinkedSwitch(dense=True, label='ac Stark: Fluxonium_1, Oscillator_1', layout=None, v_model=False)], class_='d-flex flex-column', layout=None)], class_='d-flex flex-column ', layout=None), Divider(layout=None, vertical=True), Container(children=[CardTitle(children=['Subsystem-specific plots'], layout=None), Container(children=[Container(children=[CardTitle(children=['Fluxonium_1'], layout=None, style_='font-weight: normal;'), Container(children=[LinkedSwitch(dense=True, label='Energy spectrum', layout=None, v_model=True), LinkedSwitch(dense=True, label='Wavefunctions', layout=None, v_model=True), LinkedSwitch(dense=True, label='Matrix elements (fixed)', layout=None, v_model=False), LinkedSwitch(dense=True, label='Matrix elements (sweep)', layout=None, v_model=False), LinkedSwitch(dense=True, label='Anharmonicity', layout=None, v_model=False), LinkedSwitch(dense=True, label='Self-Kerr', layout=None, v_model=False)], class_='d-flex flex-column', layout=None)], class_='d-flex flex-column ', layout=None), Container(children=[CardTitle(children=['Oscillator_1'], layout=None, style_='font-weight: normal;'), Container(children=[LinkedSwitch(dense=True, label='Energy spectrum', layout=None, v_model=False), LinkedSwitch(dense=True, label='Self-Kerr', layout=None, v_model=False)], class_='d-flex flex-column', layout=None)], class_='d-flex flex-column ', layout=None)], class_='d-flex flex-row ', layout=None)], class_='d-flex flex-column ', layout=None)], class_='d-flex flex-row ', layout=None), CardActions(children=[LinkedButton(children=['FINISH'], layout=None)], class_='justify-center', layout=None)], layout=None)], layout=None, v_model=False, width='75%'),\n",
       " 'sweep_param_dropdown': InitializedSelect(class_='px-2', items=['$\\\\Phi_{ext}/\\\\Phi_0$'], label='Active Sweep Parameter', layout=None, style_='max-width: 200px;', v_model='$\\\\Phi_{ext}/\\\\Phi_0$'),\n",
       " 'param_sliders': {'$\\\\Phi_{ext}/\\\\Phi_0$': DiscreteSetSlider(class_='px-3', label='$\\\\Phi_{ext}/\\\\Phi_0$=-0.500', layout=None, max=99.0, min=0.0, step=1.0, style_='max-width: 300px; padding-top: 10px', v_model=0)},\n",
       " 'fixed_param_sliders': {},\n",
       " 'sweep_value_slider': DiscreteSetSlider(class_='px-3', label='$\\\\Phi_{ext}/\\\\Phi_0$=-0.500', layout=None, max=99.0, min=0.0, step=1.0, style_='max-width: 300px; padding-top: 10px', v_model=0),\n",
       " 'param_sliders_container': Container(children=[DiscreteSetSlider(class_='px-3', label='$\\\\Phi_{ext}/\\\\Phi_0$=-0.500', layout=None, max=99.0, min=0.0, step=1.0, style_='max-width: 300px; padding-top: 10px', v_model=0), Text(children=[''], layout=None)], class_='d-flex flex-row ', layout=None),\n",
       " 'top_bar': Sheet(children=[Card(children=[Img(layout=None, src='data:image/png;base64,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', width=50.0)], class_='p-2 mx-4', color='#deebf9', elevation=0.0, layout=None), InitializedSelect(class_='px-2', items=['$\\\\Phi_{ext}/\\\\Phi_0$'], label='Active Sweep Parameter', layout=None, style_='max-width: 200px;', v_model='$\\\\Phi_{ext}/\\\\Phi_0$'), Container(children=[DiscreteSetSlider(class_='px-3', label='$\\\\Phi_{ext}/\\\\Phi_0$=-0.500', layout=None, max=99.0, min=0.0, step=1.0, style_='max-width: 300px; padding-top: 10px', v_model=0), Text(children=[''], layout=None)], class_='d-flex flex-row ', layout=None)], class_='d-flex flex-row m-0 pt-3 align-bottom', color='#deebf9', height=70.0, layout=None, width='100%')}"
      ]
     },
     "execution_count": 11,
     "metadata": {},
     "output_type": "execute_result"
    }
   ],
   "source": [
    "# Access the UI elements\n",
    "ui = explorer.ui\n",
    "ui"
   ]
  },
  {
   "cell_type": "code",
   "execution_count": 12,
   "metadata": {},
   "outputs": [
    {
     "data": {
      "text/plain": [
       "<scqubits.explorer.explorer_settings.ExplorerSettings at 0x1c17bdc77d0>"
      ]
     },
     "execution_count": 12,
     "metadata": {},
     "output_type": "execute_result"
    }
   ],
   "source": [
    "# Access the settings\n",
    "settings = explorer.settings\n",
    "settings"
   ]
  },
  {
   "cell_type": "markdown",
   "metadata": {},
   "source": [
    "## Example 2:  two transmons coupled to a resonator\n",
    "In the following second example, we consider a system composed of two flux-tunable transmons, capacitively coupled to one joint harmonic mode. (The flux is assumed to arise from a global field, and the SQUID-loop areas of the two transmons are different with an area ratio of 1.4) \n",
    "\n",
    "### Hilbert space setup"
   ]
  },
  {
   "cell_type": "code",
   "execution_count": 13,
   "metadata": {},
   "outputs": [
    {
     "name": "stdout",
     "output_type": "stream",
     "text": [
      "Interaction 1:\n",
      "InteractionTerm----------|\n",
      "                         | g_strength: 0.1\n",
      "                         | operator_list: [(0, array([[-30,   0,   0, ...,   0,   0,   0],\n",
      "  ...\n",
      "                         | add_hc: False\n",
      "\n",
      "Interaction 2:\n",
      "InteractionTerm----------|\n",
      "                         | g_strength: 0.2\n",
      "                         | operator_list: [(1, array([[-30,   0,   0, ...,   0,   0,   0],\n",
      "  ...\n",
      "                         | add_hc: False\n",
      "\n"
     ]
    }
   ],
   "source": [
    "qbt1 = scq.Transmon(\n",
    "     EJ=25.0,\n",
    "     EC=0.2,\n",
    "     ng=0,\n",
    "     ncut=30,\n",
    "     truncated_dim=3)\n",
    "\n",
    "qbt2 = scq.Transmon(\n",
    "     EJ=15.0,\n",
    "     EC=0.15,\n",
    "     ng=0,\n",
    "     ncut=30,\n",
    "     truncated_dim=3)\n",
    "\n",
    "resonator = scq.Oscillator(\n",
    "    E_osc=5.5,\n",
    "    truncated_dim=4)\n",
    "\n",
    "hilbertspace = HilbertSpace([qbt1, qbt2, resonator])\n",
    "\n",
    "g1 = 0.1  # coupling resonator-CPB1 (without charge matrix elements)\n",
    "g2 = 0.2  # coupling resonator-CPB2 (without charge matrix elements)\n",
    "\n",
    "interaction1 = InteractionTerm(\n",
    "    g_strength=g1,\n",
    "    operator_list=[(0, qbt1.n_operator()), (2, resonator.creation_operator() + resonator.annihilation_operator())],\n",
    "    add_hc=False\n",
    ")\n",
    "\n",
    "interaction2 = InteractionTerm(\n",
    "    g_strength=g2,\n",
    "    operator_list=[(1, qbt2.n_operator()), (2, resonator.creation_operator() + resonator.annihilation_operator())],\n",
    "    add_hc=False\n",
    ")\n",
    "\n",
    "interaction_list = [interaction1, interaction2]\n",
    "hilbertspace.interaction_list = interaction_list\n",
    "\n",
    "# Print the interaction terms\n",
    "for i, interaction in enumerate(interaction_list, 1):\n",
    "    print(f\"Interaction {i}:\")\n",
    "    print(interaction)"
   ]
  },
  {
   "cell_type": "markdown",
   "metadata": {},
   "source": [
    "### Parameter sweep setup"
   ]
  },
  {
   "cell_type": "code",
   "execution_count": 14,
   "metadata": {},
   "outputs": [
    {
     "name": "stderr",
     "output_type": "stream",
     "text": [
      "UserWarning: The interactions specified for this HilbertSpace object involve coupling operators stored as fixed matrices. This may be unintended, as the operators of quantum systems (specifically, their representation with respect to some basis) may change as a function of sweep parameters. \n",
      "For that reason, it is recommended to use coupling operators specified as callable functions.\n",
      "\n",
      " C:\\Users\\hp\\AppData\\Roaming\\Python\\Python311\\site-packages\\scqubits\\core\\param_sweep.py: 971"
     ]
    },
    {
     "data": {
      "application/vnd.jupyter.widget-view+json": {
       "model_id": "d72eb724072d4ec2a5f0ab8ea3c10243",
       "version_major": 2,
       "version_minor": 0
      },
      "text/plain": [
       "Parallel compute bare eigensys for subsystem Transmon_1 [num_cpus=4]"
      ]
     },
     "metadata": {},
     "output_type": "display_data"
    },
    {
     "data": {
      "application/vnd.jupyter.widget-view+json": {
       "model_id": "e7a705004f6a4744bb14fc2518a00c5c",
       "version_major": 2,
       "version_minor": 0
      },
      "text/plain": [
       "Parallel compute bare eigensys for subsystem Transmon_2 [num_cpus=4]"
      ]
     },
     "metadata": {},
     "output_type": "display_data"
    },
    {
     "data": {
      "application/vnd.jupyter.widget-view+json": {
       "model_id": "d9c90881123147cb95e7434820f75899",
       "version_major": 2,
       "version_minor": 0
      },
      "text/plain": [
       "Parallel compute bare eigensys for subsystem Oscillator_3 [num_cpus=4]"
      ]
     },
     "metadata": {},
     "output_type": "display_data"
    },
    {
     "data": {
      "application/vnd.jupyter.widget-view+json": {
       "model_id": "3892a79a366743dcb7dd8dae0b7ba4cd",
       "version_major": 2,
       "version_minor": 0
      },
      "text/plain": [
       "Parallel compute dressed eigensys [num_cpus=4]"
      ]
     },
     "metadata": {},
     "output_type": "display_data"
    }
   ],
   "source": [
    "param_name = r'$\\Phi_{ext}/\\Phi_0$'\n",
    "param_vals = np.linspace(0.0, 1.0, 150)\n",
    "\n",
    "subsys_update_list = [qbt1, qbt2]\n",
    "\n",
    "\n",
    "def update_hilbertspace(param_val):     # function that shows how Hilbert space components are updated\n",
    "    qbt1.EJ = 30*np.abs(np.cos(np.pi * param_val))\n",
    "    qbt2.EJ = 40*np.abs(np.cos(np.pi * param_val * 2))\n",
    "    \n",
    "\n",
    "sweep = ParameterSweep(\n",
    "    hilbertspace=hilbertspace,\n",
    "    paramvals_by_name={param_name: param_vals},\n",
    "    update_hilbertspace=update_hilbertspace,\n",
    "    evals_count=10,\n",
    "    subsys_update_info={'qbt': subsys_update_list},\n",
    "    num_cpus=4\n",
    ")"
   ]
  },
  {
   "cell_type": "markdown",
   "metadata": {},
   "source": [
    "### Start Explorer"
   ]
  },
  {
   "cell_type": "code",
   "execution_count": 15,
   "metadata": {},
   "outputs": [
    {
     "data": {
      "application/vnd.jupyter.widget-view+json": {
       "model_id": "eb0ba81c87c849c5ac0f1ac5413976f9",
       "version_major": 2,
       "version_minor": 0
      },
      "text/plain": [
       "Container(children=[Sheet(children=[Card(children=[Img(layout=None, src='data:image/png;base64,iVBORw0KGgoAAAA…"
      ]
     },
     "metadata": {},
     "output_type": "display_data"
    }
   ],
   "source": [
    "# Create an Explorer object\n",
    "explorer = Explorer(sweep=sweep, ncols=3)"
   ]
  },
  {
   "cell_type": "code",
   "execution_count": null,
   "metadata": {},
   "outputs": [],
   "source": []
  }
 ],
 "metadata": {
  "kernelspec": {
   "display_name": "Python 3",
   "language": "python",
   "name": "python3"
  },
  "language_info": {
   "codemirror_mode": {
    "name": "ipython",
    "version": 3
   },
   "file_extension": ".py",
   "mimetype": "text/x-python",
   "name": "python",
   "nbconvert_exporter": "python",
   "pygments_lexer": "ipython3",
   "version": "3.11.5"
  },
  "pycharm": {
   "stem_cell": {
    "cell_type": "raw",
    "metadata": {
     "collapsed": false
    },
    "source": []
   }
  },
  "toc": {
   "base_numbering": 1,
   "nav_menu": {},
   "number_sections": false,
   "sideBar": true,
   "skip_h1_title": true,
   "title_cell": "Table of Contents",
   "title_sidebar": "Contents",
   "toc_cell": false,
   "toc_position": {},
   "toc_section_display": true,
   "toc_window_display": true
  }
 },
 "nbformat": 4,
 "nbformat_minor": 4
}
