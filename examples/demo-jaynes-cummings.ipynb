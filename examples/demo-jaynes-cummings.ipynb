{
 "cells": [
  {
   "cell_type": "markdown",
   "metadata": {},
   "source": [
    "# scqubits example: Jaynes-Cummings model\n",
    "J. Koch and P. Groszkowski\n",
    "\n",
    "For further documentation of scqubits see https://scqubits.readthedocs.io/en/latest/.\n",
    "\n",
    "---"
   ]
  },
  {
   "cell_type": "code",
   "execution_count": 1,
   "metadata": {
    "ExecuteTime": {
     "end_time": "2020-03-31T11:43:53.057632Z",
     "start_time": "2020-03-31T11:43:53.000813Z"
    },
    "init_cell": true,
    "pycharm": {
     "is_executing": false
    },
    "scrolled": true
   },
   "outputs": [],
   "source": [
    "%matplotlib inline\n",
    "%config InlineBackend.figure_format = 'svg'\n",
    "\n",
    "import numpy as np\n",
    "\n",
    "import scqubits as scq\n",
    "from scqubits import HilbertSpace, InteractionTerm, ParameterSweep"
   ]
  },
  {
   "cell_type": "markdown",
   "metadata": {},
   "source": [
    "## The Jaynes-Cummings model\n",
    "\n",
    "The Jaynes-Cummings mode describes a system composed of a qubit (two-level system) coupled to a harmonic oscillator. The coupling is such that a qubit excitation can be \"converted\" into a photon and vice versa,\n",
    "\n",
    "$\\displaystyle H=-\\frac{\\omega_q}{2}\\sigma_z + \\omega_r a^\\dagger a + g (a\\sigma_+ + a^\\dagger \\sigma_-)$\n",
    "\n",
    "This model can be solved exactly, resulting in the following eigenenergies:\n",
    "\n",
    "$\\displaystyle E_0 = -\\frac{1}{2}\\omega_q$,\n",
    "\n",
    "$\\displaystyle E_{n\\pm} =  \\bigg(n-\\frac{1}{2}\\bigg) \\omega_r \\pm \\sqrt{\\frac{\\Delta^2}{4}+n g^2}$,\n",
    "\n",
    "where $\\Delta=\\omega_r-\\omega_q$ and $n=1,2,\\ldots$.\n"
   ]
  },
  {
   "cell_type": "code",
   "execution_count": 2,
   "metadata": {},
   "outputs": [],
   "source": [
    "# exact eigenenergies for comparing with numerics\n",
    "\n",
    "def energies(omega_r, omega_q, g, n_cutoff):\n",
    "    delta = omega_r - omega_q\n",
    "    energies1 = (np.arange(1, n_cutoff) - 0.5) * omega_r\n",
    "    energies2 = np.sqrt(delta**2/4 + np.arange(1, n_cutoff) * g**2)\n",
    "    energies_plus = energies1 + energies2\n",
    "    energies_minus = energies1 - energies2\n",
    "    energies_0 = np.asarray([[-0.5 * omega_q]])\n",
    "    all_energies = np.append(energies_0, energies_minus)\n",
    "    all_energies = np.append(all_energies, energies_plus)\n",
    "    return np.sort(all_energies)"
   ]
  },
  {
   "cell_type": "markdown",
   "metadata": {},
   "source": [
    "### Set up the subsystems"
   ]
  },
  {
   "cell_type": "code",
   "execution_count": 3,
   "metadata": {
    "ExecuteTime": {
     "end_time": "2020-03-31T11:43:54.037807Z",
     "start_time": "2020-03-31T11:43:54.024841Z"
    },
    "pycharm": {
     "name": "#%%\n"
    }
   },
   "outputs": [],
   "source": [
    "omega_q = 1.0\n",
    "omega_r = 0.8\n",
    "g = 0.1\n",
    "\n",
    "\n",
    "qubit = scq.GenericQubit(E=omega_q)\n",
    "\n",
    "osc = scq.Oscillator(\n",
    "    E_osc=omega_r,\n",
    "    truncated_dim=10  # up to 9 photons\n",
    ")"
   ]
  },
  {
   "cell_type": "markdown",
   "metadata": {
    "pycharm": {
     "name": "#%% md\n"
    }
   },
   "source": [
    "### Set up Hilbert space"
   ]
  },
  {
   "cell_type": "code",
   "execution_count": 4,
   "metadata": {
    "ExecuteTime": {
     "end_time": "2020-03-31T11:44:00.099411Z",
     "start_time": "2020-03-31T11:44:00.092429Z"
    },
    "pycharm": {
     "name": "#%%\n"
    }
   },
   "outputs": [],
   "source": [
    "# Form a list of all components making up the Hilbert space.\n",
    "hilbertspace = HilbertSpace([qubit, osc])\n",
    "\n",
    "hilbertspace.add_interaction(\n",
    "    g_strength = g,\n",
    "    op1 = qubit.sm_operator,\n",
    "    op2 = osc.creation_operator,\n",
    "    add_hc = True\n",
    ")"
   ]
  },
  {
   "cell_type": "code",
   "execution_count": 5,
   "metadata": {
    "ExecuteTime": {
     "end_time": "2020-03-31T11:43:54.772581Z",
     "start_time": "2020-03-31T11:43:54.765597Z"
    }
   },
   "outputs": [
    {
     "name": "stdout",
     "output_type": "stream",
     "text": [
      "HilbertSpace:  subsystems\n",
      "-------------------------\n",
      "\n",
      "GenericQubit--------| [GenericQubit_1]\n",
      "                    | E: 1.0\n",
      "                    |\n",
      "                    | dim: 2\n",
      "\n",
      "\n",
      "Oscillator----------| [Oscillator_1]\n",
      "                    | E_osc: 0.8\n",
      "                    | l_osc: None\n",
      "                    | truncated_dim: 10\n",
      "                    |\n",
      "                    | dim: 10\n",
      "\n",
      "\n",
      "\n",
      "HilbertSpace:  interaction terms\n",
      "--------------------------------\n",
      "InteractionTerm----------| [Interaction_1]\n",
      "                         | g_strength: 0.1\n",
      "                         | operator_list: [(0, array([[0., 0.],\n",
      "       [1., 0.]])), (1, arra ...\n",
      "                         | add_hc: True\n",
      "\n",
      "\n"
     ]
    }
   ],
   "source": [
    "print(hilbertspace)"
   ]
  },
  {
   "cell_type": "code",
   "execution_count": 6,
   "metadata": {
    "ExecuteTime": {
     "end_time": "2020-03-31T11:44:06.327709Z",
     "start_time": "2020-03-31T11:44:06.314743Z"
    }
   },
   "outputs": [
    {
     "name": "stdout",
     "output_type": "stream",
     "text": [
      "[-0.5         0.25857864  0.54142136  1.02679492  1.37320508]\n"
     ]
    }
   ],
   "source": [
    "evals = hilbertspace.eigenvals(evals_count=5)\n",
    "print(evals)"
   ]
  },
  {
   "cell_type": "code",
   "execution_count": 7,
   "metadata": {},
   "outputs": [
    {
     "data": {
      "text/plain": [
       "array([-0.5       ,  0.25857864,  0.54142136,  1.02679492,  1.37320508])"
      ]
     },
     "execution_count": 7,
     "metadata": {},
     "output_type": "execute_result"
    }
   ],
   "source": [
    "energies(omega_r, omega_q, g, 3)"
   ]
  }
 ],
 "metadata": {
  "celltoolbar": "Initialisation Cell",
  "kernelspec": {
   "display_name": "Python 3",
   "language": "python",
   "name": "python3"
  },
  "language_info": {
   "codemirror_mode": {
    "name": "ipython",
    "version": 3
   },
   "file_extension": ".py",
   "mimetype": "text/x-python",
   "name": "python",
   "nbconvert_exporter": "python",
   "pygments_lexer": "ipython3",
   "version": "3.8.10"
  },
  "toc": {
   "base_numbering": 1,
   "nav_menu": {},
   "number_sections": false,
   "sideBar": true,
   "skip_h1_title": true,
   "title_cell": "Table of Contents",
   "title_sidebar": "Contents",
   "toc_cell": false,
   "toc_position": {},
   "toc_section_display": true,
   "toc_window_display": false
  },
  "varInspector": {
   "cols": {
    "lenName": 16,
    "lenType": 16,
    "lenVar": 40
   },
   "kernels_config": {
    "python": {
     "delete_cmd_postfix": "",
     "delete_cmd_prefix": "del ",
     "library": "var_list.py",
     "varRefreshCmd": "print(var_dic_list())"
    },
    "r": {
     "delete_cmd_postfix": ") ",
     "delete_cmd_prefix": "rm(",
     "library": "var_list.r",
     "varRefreshCmd": "cat(var_dic_list()) "
    }
   },
   "types_to_exclude": [
    "module",
    "function",
    "builtin_function_or_method",
    "instance",
    "_Feature"
   ],
   "window_display": false
  },
  "widgets": {
   "application/vnd.jupyter.widget-state+json": {
    "state": {},
    "version_major": 2,
    "version_minor": 0
   }
  }
 },
 "nbformat": 4,
 "nbformat_minor": 4
}
